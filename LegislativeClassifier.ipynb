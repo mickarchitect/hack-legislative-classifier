{
 "cells": [
  {
   "cell_type": "markdown",
   "metadata": {},
   "source": [
    "# Overview\n",
    "- Read csv with document data in it\n",
    "- Split into train/test data\n",
    "- Train model\n",
    "- Test model\n",
    "\n",
    "# Initialization"
   ]
  },
  {
   "cell_type": "code",
   "execution_count": 167,
   "metadata": {
    "ExecuteTime": {
     "end_time": "2021-01-24T03:28:25.068165Z",
     "start_time": "2021-01-24T03:28:15.952829Z"
    }
   },
   "outputs": [
    {
     "name": "stderr",
     "output_type": "stream",
     "text": [
      "[nltk_data] Downloading package punkt to /Users/emilyng/nltk_data...\n",
      "[nltk_data]   Package punkt is already up-to-date!\n"
     ]
    }
   ],
   "source": [
    "import pandas as pd\n",
    "import numpy as np\n",
    "import matplotlib.pyplot as plt\n",
    "import os\n",
    "import pdfminer as pdfm\n",
    "\n",
    "from io import StringIO\n",
    "\n",
    "from pdfminer.converter import TextConverter\n",
    "from pdfminer.layout import LAParams\n",
    "from pdfminer.pdfdocument import PDFDocument\n",
    "from pdfminer.pdfinterp import PDFResourceManager, PDFPageInterpreter\n",
    "from pdfminer.pdfpage import PDFPage\n",
    "from pdfminer.pdfparser import PDFParser\n",
    "\n",
    "import nltk\n",
    "nltk.download(\"punkt\")\n",
    "from nltk.classify import NaiveBayesClassifier\n",
    "\n",
    "import string\n",
    "from collections import Counter"
   ]
  },
  {
   "cell_type": "markdown",
   "metadata": {},
   "source": [
    "# Read the document data"
   ]
  },
  {
   "cell_type": "code",
   "execution_count": 185,
   "metadata": {
    "ExecuteTime": {
     "end_time": "2021-01-24T03:30:33.936272Z",
     "start_time": "2021-01-24T03:30:33.724202Z"
    },
    "scrolled": false
   },
   "outputs": [
    {
     "data": {
      "text/html": [
       "<div>\n",
       "<style scoped>\n",
       "    .dataframe tbody tr th:only-of-type {\n",
       "        vertical-align: middle;\n",
       "    }\n",
       "\n",
       "    .dataframe tbody tr th {\n",
       "        vertical-align: top;\n",
       "    }\n",
       "\n",
       "    .dataframe thead th {\n",
       "        text-align: right;\n",
       "    }\n",
       "</style>\n",
       "<table border=\"1\" class=\"dataframe\">\n",
       "  <thead>\n",
       "    <tr style=\"text-align: right;\">\n",
       "      <th></th>\n",
       "      <th>Unnamed: 0</th>\n",
       "      <th>doc_num</th>\n",
       "      <th>doc_filepath</th>\n",
       "      <th>doc_text</th>\n",
       "      <th>text_cleaned</th>\n",
       "      <th>nltk_words</th>\n",
       "      <th>filtered_words</th>\n",
       "      <th>word_counts</th>\n",
       "      <th>bow</th>\n",
       "      <th>env_label</th>\n",
       "    </tr>\n",
       "  </thead>\n",
       "  <tbody>\n",
       "    <tr>\n",
       "      <th>0</th>\n",
       "      <td>0</td>\n",
       "      <td>0</td>\n",
       "      <td>Data/Environmental/PLAW-104publ70.pdf</td>\n",
       "      <td>PUBLIC LAW 104–70—DEC. 23, 1995\\n\\n109 STAT. 7...</td>\n",
       "      <td>public law dec   stat public law th congressan...</td>\n",
       "      <td>['public', 'law', 'dec', 'stat', 'public', 'la...</td>\n",
       "      <td>['public', 'law', 'dec', 'stat', 'public', 'la...</td>\n",
       "      <td>[('may', 4), ('occupancy', 4), ('vehicle', 3),...</td>\n",
       "      <td>{'public': 1, 'law': 1, 'dec': 1, 'stat': 1, '...</td>\n",
       "      <td>Environmental</td>\n",
       "    </tr>\n",
       "    <tr>\n",
       "      <th>1</th>\n",
       "      <td>1</td>\n",
       "      <td>1</td>\n",
       "      <td>Data/Environmental/PLAW-112publ177.pdf</td>\n",
       "      <td>PUBLIC LAW 112–177—SEPT. 28, 2012 \\n\\n126 STAT...</td>\n",
       "      <td>public law sept   stat public law th congressa...</td>\n",
       "      <td>['public', 'law', 'sept', 'stat', 'public', 'l...</td>\n",
       "      <td>['public', 'law', 'sept', 'stat', 'public', 'l...</td>\n",
       "      <td>[('new', 367), ('application', 239), ('use', 2...</td>\n",
       "      <td>{'public': 1, 'law': 1, 'sept': 1, 'stat': 1, ...</td>\n",
       "      <td>Environmental</td>\n",
       "    </tr>\n",
       "    <tr>\n",
       "      <th>2</th>\n",
       "      <td>2</td>\n",
       "      <td>2</td>\n",
       "      <td>Data/Environmental/PLAW-116publ63.pdf</td>\n",
       "      <td>133 STAT. 1120 \\n\\nPUBLIC LAW 116–63—OCT. 4, 2...</td>\n",
       "      <td>stat public law oct  public law th congressan...</td>\n",
       "      <td>['stat', 'public', 'law', 'oct', 'public', 'la...</td>\n",
       "      <td>['stat', 'public', 'law', 'oct', 'public', 'la...</td>\n",
       "      <td>[('water', 19), ('state', 12), ('revolving', 9...</td>\n",
       "      <td>{'stat': 1, 'public': 1, 'law': 1, 'oct': 1, '...</td>\n",
       "      <td>Environmental</td>\n",
       "    </tr>\n",
       "    <tr>\n",
       "      <th>3</th>\n",
       "      <td>3</td>\n",
       "      <td>3</td>\n",
       "      <td>Data/Environmental/PLAW-110publ288.pdf</td>\n",
       "      <td>PUBLIC LAW 110–288—JULY 29, 2008 \\n\\nCLEAN BOA...</td>\n",
       "      <td>public law july  clean boating act of swalcilb...</td>\n",
       "      <td>['public', 'law', 'july', 'clean', 'boating', ...</td>\n",
       "      <td>['public', 'law', 'july', 'clean', 'boating', ...</td>\n",
       "      <td>[('management', 14), ('recreational', 12), ('a...</td>\n",
       "      <td>{'public': 1, 'law': 1, 'july': 1, 'clean': 1,...</td>\n",
       "      <td>Environmental</td>\n",
       "    </tr>\n",
       "    <tr>\n",
       "      <th>4</th>\n",
       "      <td>4</td>\n",
       "      <td>4</td>\n",
       "      <td>Data/Environmental/PLAW-108publ425.pdf</td>\n",
       "      <td>PUBLIC LAW 108–425—NOV. 30, 2004\\n\\nTIJUANA RI...</td>\n",
       "      <td>public law nov  tijuana river valley estuary a...</td>\n",
       "      <td>['public', 'law', 'nov', 'tijuana', 'river', '...</td>\n",
       "      <td>['public', 'law', 'nov', 'tijuana', 'river', '...</td>\n",
       "      <td>[('may', 9), ('act', 7), ('paragraph', 7), ('l...</td>\n",
       "      <td>{'public': 1, 'law': 1, 'nov': 1, 'tijuana': 1...</td>\n",
       "      <td>Environmental</td>\n",
       "    </tr>\n",
       "    <tr>\n",
       "      <th>...</th>\n",
       "      <td>...</td>\n",
       "      <td>...</td>\n",
       "      <td>...</td>\n",
       "      <td>...</td>\n",
       "      <td>...</td>\n",
       "      <td>...</td>\n",
       "      <td>...</td>\n",
       "      <td>...</td>\n",
       "      <td>...</td>\n",
       "      <td>...</td>\n",
       "    </tr>\n",
       "    <tr>\n",
       "      <th>134</th>\n",
       "      <td>134</td>\n",
       "      <td>134</td>\n",
       "      <td>Data/NonEnvironmental/PLAW-114publ38.pdf</td>\n",
       "      <td>PUBLIC LAW 114–38—JULY 28, 2015 \\n\\n129 STAT. ...</td>\n",
       "      <td>public law july   stat public law th congressa...</td>\n",
       "      <td>['public', 'law', 'july', 'stat', 'public', 'l...</td>\n",
       "      <td>['public', 'law', 'july', 'stat', 'public', 'l...</td>\n",
       "      <td>[('business', 21), ('small', 12), ('act', 11),...</td>\n",
       "      <td>{'public': 1, 'law': 1, 'july': 1, 'stat': 1, ...</td>\n",
       "      <td>NonEnvironmental</td>\n",
       "    </tr>\n",
       "    <tr>\n",
       "      <th>135</th>\n",
       "      <td>135</td>\n",
       "      <td>135</td>\n",
       "      <td>Data/NonEnvironmental/PLAW-115publ281.pdf</td>\n",
       "      <td>PUBLIC LAW 115–281—DEC. 1, 2018 \\n\\n132 STAT. ...</td>\n",
       "      <td>public law dec   stat public law th congressan...</td>\n",
       "      <td>['public', 'law', 'dec', 'stat', 'public', 'la...</td>\n",
       "      <td>['public', 'law', 'dec', 'stat', 'public', 'la...</td>\n",
       "      <td>[('national', 5), ('december', 4), ('act', 4),...</td>\n",
       "      <td>{'public': 1, 'law': 1, 'dec': 1, 'stat': 1, '...</td>\n",
       "      <td>NonEnvironmental</td>\n",
       "    </tr>\n",
       "    <tr>\n",
       "      <th>136</th>\n",
       "      <td>136</td>\n",
       "      <td>136</td>\n",
       "      <td>Data/NonEnvironmental/PLAW-115publ280.pdf</td>\n",
       "      <td>132 STAT. 4190 \\n\\nPUBLIC LAW 115–280—NOV. 29,...</td>\n",
       "      <td>stat public law nov  public law th congressan...</td>\n",
       "      <td>['stat', 'public', 'law', 'nov', 'public', 'la...</td>\n",
       "      <td>['stat', 'public', 'law', 'nov', 'public', 'la...</td>\n",
       "      <td>[('disaster', 3), ('public', 2), ('law', 2), (...</td>\n",
       "      <td>{'stat': 1, 'public': 1, 'law': 1, 'nov': 1, '...</td>\n",
       "      <td>NonEnvironmental</td>\n",
       "    </tr>\n",
       "    <tr>\n",
       "      <th>137</th>\n",
       "      <td>137</td>\n",
       "      <td>137</td>\n",
       "      <td>Data/NonEnvironmental/PLAW-116publ52.pdf</td>\n",
       "      <td>133 STAT. 1076 \\n\\nPUBLIC LAW 116–52—AUG. 23, ...</td>\n",
       "      <td>stat public law aug  public law th congressan...</td>\n",
       "      <td>['stat', 'public', 'law', 'aug', 'public', 'la...</td>\n",
       "      <td>['stat', 'public', 'law', 'aug', 'public', 'la...</td>\n",
       "      <td>[('act', 5), ('title', 5), ('aug', 4), ('paid'...</td>\n",
       "      <td>{'stat': 1, 'public': 1, 'law': 1, 'aug': 1, '...</td>\n",
       "      <td>NonEnvironmental</td>\n",
       "    </tr>\n",
       "    <tr>\n",
       "      <th>138</th>\n",
       "      <td>138</td>\n",
       "      <td>138</td>\n",
       "      <td>Data/NonEnvironmental/PLAW-116publ107.pdf</td>\n",
       "      <td>133 STAT. 3292 \\n\\nPUBLIC LAW 116–107—JAN. 17,...</td>\n",
       "      <td>stat public law jan  public law th congressan...</td>\n",
       "      <td>['stat', 'public', 'law', 'jan', 'public', 'la...</td>\n",
       "      <td>['stat', 'public', 'law', 'jan', 'public', 'la...</td>\n",
       "      <td>[('veterans', 12), ('secretary', 9), ('grant',...</td>\n",
       "      <td>{'stat': 1, 'public': 1, 'law': 1, 'jan': 1, '...</td>\n",
       "      <td>NonEnvironmental</td>\n",
       "    </tr>\n",
       "  </tbody>\n",
       "</table>\n",
       "<p>139 rows × 10 columns</p>\n",
       "</div>"
      ],
      "text/plain": [
       "     Unnamed: 0  doc_num                               doc_filepath  \\\n",
       "0             0        0      Data/Environmental/PLAW-104publ70.pdf   \n",
       "1             1        1     Data/Environmental/PLAW-112publ177.pdf   \n",
       "2             2        2      Data/Environmental/PLAW-116publ63.pdf   \n",
       "3             3        3     Data/Environmental/PLAW-110publ288.pdf   \n",
       "4             4        4     Data/Environmental/PLAW-108publ425.pdf   \n",
       "..          ...      ...                                        ...   \n",
       "134         134      134   Data/NonEnvironmental/PLAW-114publ38.pdf   \n",
       "135         135      135  Data/NonEnvironmental/PLAW-115publ281.pdf   \n",
       "136         136      136  Data/NonEnvironmental/PLAW-115publ280.pdf   \n",
       "137         137      137   Data/NonEnvironmental/PLAW-116publ52.pdf   \n",
       "138         138      138  Data/NonEnvironmental/PLAW-116publ107.pdf   \n",
       "\n",
       "                                              doc_text  \\\n",
       "0    PUBLIC LAW 104–70—DEC. 23, 1995\\n\\n109 STAT. 7...   \n",
       "1    PUBLIC LAW 112–177—SEPT. 28, 2012 \\n\\n126 STAT...   \n",
       "2    133 STAT. 1120 \\n\\nPUBLIC LAW 116–63—OCT. 4, 2...   \n",
       "3    PUBLIC LAW 110–288—JULY 29, 2008 \\n\\nCLEAN BOA...   \n",
       "4    PUBLIC LAW 108–425—NOV. 30, 2004\\n\\nTIJUANA RI...   \n",
       "..                                                 ...   \n",
       "134  PUBLIC LAW 114–38—JULY 28, 2015 \\n\\n129 STAT. ...   \n",
       "135  PUBLIC LAW 115–281—DEC. 1, 2018 \\n\\n132 STAT. ...   \n",
       "136  132 STAT. 4190 \\n\\nPUBLIC LAW 115–280—NOV. 29,...   \n",
       "137  133 STAT. 1076 \\n\\nPUBLIC LAW 116–52—AUG. 23, ...   \n",
       "138  133 STAT. 3292 \\n\\nPUBLIC LAW 116–107—JAN. 17,...   \n",
       "\n",
       "                                          text_cleaned  \\\n",
       "0    public law dec   stat public law th congressan...   \n",
       "1    public law sept   stat public law th congressa...   \n",
       "2     stat public law oct  public law th congressan...   \n",
       "3    public law july  clean boating act of swalcilb...   \n",
       "4    public law nov  tijuana river valley estuary a...   \n",
       "..                                                 ...   \n",
       "134  public law july   stat public law th congressa...   \n",
       "135  public law dec   stat public law th congressan...   \n",
       "136   stat public law nov  public law th congressan...   \n",
       "137   stat public law aug  public law th congressan...   \n",
       "138   stat public law jan  public law th congressan...   \n",
       "\n",
       "                                            nltk_words  \\\n",
       "0    ['public', 'law', 'dec', 'stat', 'public', 'la...   \n",
       "1    ['public', 'law', 'sept', 'stat', 'public', 'l...   \n",
       "2    ['stat', 'public', 'law', 'oct', 'public', 'la...   \n",
       "3    ['public', 'law', 'july', 'clean', 'boating', ...   \n",
       "4    ['public', 'law', 'nov', 'tijuana', 'river', '...   \n",
       "..                                                 ...   \n",
       "134  ['public', 'law', 'july', 'stat', 'public', 'l...   \n",
       "135  ['public', 'law', 'dec', 'stat', 'public', 'la...   \n",
       "136  ['stat', 'public', 'law', 'nov', 'public', 'la...   \n",
       "137  ['stat', 'public', 'law', 'aug', 'public', 'la...   \n",
       "138  ['stat', 'public', 'law', 'jan', 'public', 'la...   \n",
       "\n",
       "                                        filtered_words  \\\n",
       "0    ['public', 'law', 'dec', 'stat', 'public', 'la...   \n",
       "1    ['public', 'law', 'sept', 'stat', 'public', 'l...   \n",
       "2    ['stat', 'public', 'law', 'oct', 'public', 'la...   \n",
       "3    ['public', 'law', 'july', 'clean', 'boating', ...   \n",
       "4    ['public', 'law', 'nov', 'tijuana', 'river', '...   \n",
       "..                                                 ...   \n",
       "134  ['public', 'law', 'july', 'stat', 'public', 'l...   \n",
       "135  ['public', 'law', 'dec', 'stat', 'public', 'la...   \n",
       "136  ['stat', 'public', 'law', 'nov', 'public', 'la...   \n",
       "137  ['stat', 'public', 'law', 'aug', 'public', 'la...   \n",
       "138  ['stat', 'public', 'law', 'jan', 'public', 'la...   \n",
       "\n",
       "                                           word_counts  \\\n",
       "0    [('may', 4), ('occupancy', 4), ('vehicle', 3),...   \n",
       "1    [('new', 367), ('application', 239), ('use', 2...   \n",
       "2    [('water', 19), ('state', 12), ('revolving', 9...   \n",
       "3    [('management', 14), ('recreational', 12), ('a...   \n",
       "4    [('may', 9), ('act', 7), ('paragraph', 7), ('l...   \n",
       "..                                                 ...   \n",
       "134  [('business', 21), ('small', 12), ('act', 11),...   \n",
       "135  [('national', 5), ('december', 4), ('act', 4),...   \n",
       "136  [('disaster', 3), ('public', 2), ('law', 2), (...   \n",
       "137  [('act', 5), ('title', 5), ('aug', 4), ('paid'...   \n",
       "138  [('veterans', 12), ('secretary', 9), ('grant',...   \n",
       "\n",
       "                                                   bow         env_label  \n",
       "0    {'public': 1, 'law': 1, 'dec': 1, 'stat': 1, '...     Environmental  \n",
       "1    {'public': 1, 'law': 1, 'sept': 1, 'stat': 1, ...     Environmental  \n",
       "2    {'stat': 1, 'public': 1, 'law': 1, 'oct': 1, '...     Environmental  \n",
       "3    {'public': 1, 'law': 1, 'july': 1, 'clean': 1,...     Environmental  \n",
       "4    {'public': 1, 'law': 1, 'nov': 1, 'tijuana': 1...     Environmental  \n",
       "..                                                 ...               ...  \n",
       "134  {'public': 1, 'law': 1, 'july': 1, 'stat': 1, ...  NonEnvironmental  \n",
       "135  {'public': 1, 'law': 1, 'dec': 1, 'stat': 1, '...  NonEnvironmental  \n",
       "136  {'stat': 1, 'public': 1, 'law': 1, 'nov': 1, '...  NonEnvironmental  \n",
       "137  {'stat': 1, 'public': 1, 'law': 1, 'aug': 1, '...  NonEnvironmental  \n",
       "138  {'stat': 1, 'public': 1, 'law': 1, 'jan': 1, '...  NonEnvironmental  \n",
       "\n",
       "[139 rows x 10 columns]"
      ]
     },
     "execution_count": 185,
     "metadata": {},
     "output_type": "execute_result"
    }
   ],
   "source": [
    "doc_df = pd.read_csv(\"Data/doc_list1.csv\")\n",
    "doc_df"
   ]
  },
  {
   "cell_type": "code",
   "execution_count": 186,
   "metadata": {
    "ExecuteTime": {
     "end_time": "2021-01-24T03:30:34.228416Z",
     "start_time": "2021-01-24T03:30:34.224995Z"
    }
   },
   "outputs": [
    {
     "data": {
      "text/plain": [
       "(139, 10)"
      ]
     },
     "execution_count": 186,
     "metadata": {},
     "output_type": "execute_result"
    }
   ],
   "source": [
    "doc_df.shape"
   ]
  },
  {
   "cell_type": "markdown",
   "metadata": {},
   "source": [
    "# Split Training vs Testing Data"
   ]
  },
  {
   "cell_type": "code",
   "execution_count": 187,
   "metadata": {
    "ExecuteTime": {
     "end_time": "2021-01-24T03:30:35.337907Z",
     "start_time": "2021-01-24T03:30:35.331410Z"
    }
   },
   "outputs": [],
   "source": [
    "train_filter = doc_df['doc_num']%2 == 0\n",
    "test_filter = ~train_filter\n",
    "#train_filter\n",
    "#test_filter\n",
    "training_df = doc_df.loc[train_filter]\n",
    "testing_df = doc_df.loc[test_filter]"
   ]
  },
  {
   "cell_type": "code",
   "execution_count": 188,
   "metadata": {
    "ExecuteTime": {
     "end_time": "2021-01-24T03:30:35.696203Z",
     "start_time": "2021-01-24T03:30:35.692142Z"
    }
   },
   "outputs": [
    {
     "data": {
      "text/plain": [
       "(70, 10)"
      ]
     },
     "execution_count": 188,
     "metadata": {},
     "output_type": "execute_result"
    }
   ],
   "source": [
    "training_df.shape"
   ]
  },
  {
   "cell_type": "code",
   "execution_count": 189,
   "metadata": {
    "ExecuteTime": {
     "end_time": "2021-01-24T03:30:36.507754Z",
     "start_time": "2021-01-24T03:30:36.489886Z"
    }
   },
   "outputs": [
    {
     "data": {
      "text/html": [
       "<div>\n",
       "<style scoped>\n",
       "    .dataframe tbody tr th:only-of-type {\n",
       "        vertical-align: middle;\n",
       "    }\n",
       "\n",
       "    .dataframe tbody tr th {\n",
       "        vertical-align: top;\n",
       "    }\n",
       "\n",
       "    .dataframe thead th {\n",
       "        text-align: right;\n",
       "    }\n",
       "</style>\n",
       "<table border=\"1\" class=\"dataframe\">\n",
       "  <thead>\n",
       "    <tr style=\"text-align: right;\">\n",
       "      <th></th>\n",
       "      <th>Unnamed: 0</th>\n",
       "      <th>doc_num</th>\n",
       "      <th>doc_filepath</th>\n",
       "      <th>doc_text</th>\n",
       "      <th>text_cleaned</th>\n",
       "      <th>nltk_words</th>\n",
       "      <th>filtered_words</th>\n",
       "      <th>word_counts</th>\n",
       "      <th>bow</th>\n",
       "      <th>env_label</th>\n",
       "    </tr>\n",
       "  </thead>\n",
       "  <tbody>\n",
       "    <tr>\n",
       "      <th>1</th>\n",
       "      <td>1</td>\n",
       "      <td>1</td>\n",
       "      <td>Data/Environmental/PLAW-112publ177.pdf</td>\n",
       "      <td>PUBLIC LAW 112–177—SEPT. 28, 2012 \\n\\n126 STAT...</td>\n",
       "      <td>public law sept   stat public law th congressa...</td>\n",
       "      <td>['public', 'law', 'sept', 'stat', 'public', 'l...</td>\n",
       "      <td>['public', 'law', 'sept', 'stat', 'public', 'l...</td>\n",
       "      <td>[('new', 367), ('application', 239), ('use', 2...</td>\n",
       "      <td>{'public': 1, 'law': 1, 'sept': 1, 'stat': 1, ...</td>\n",
       "      <td>Environmental</td>\n",
       "    </tr>\n",
       "    <tr>\n",
       "      <th>3</th>\n",
       "      <td>3</td>\n",
       "      <td>3</td>\n",
       "      <td>Data/Environmental/PLAW-110publ288.pdf</td>\n",
       "      <td>PUBLIC LAW 110–288—JULY 29, 2008 \\n\\nCLEAN BOA...</td>\n",
       "      <td>public law july  clean boating act of swalcilb...</td>\n",
       "      <td>['public', 'law', 'july', 'clean', 'boating', ...</td>\n",
       "      <td>['public', 'law', 'july', 'clean', 'boating', ...</td>\n",
       "      <td>[('management', 14), ('recreational', 12), ('a...</td>\n",
       "      <td>{'public': 1, 'law': 1, 'july': 1, 'clean': 1,...</td>\n",
       "      <td>Environmental</td>\n",
       "    </tr>\n",
       "    <tr>\n",
       "      <th>5</th>\n",
       "      <td>5</td>\n",
       "      <td>5</td>\n",
       "      <td>Data/Environmental/PLAW-105publ156.pdf</td>\n",
       "      <td>(cid:80)(cid:85)(cid:66)(cid:76)(cid:73)(cid:6...</td>\n",
       "      <td>cidcidcidcidcidcidcidcidcidcidcidcidcidcidcidc...</td>\n",
       "      <td>['cidcidcidcidcidcidcidcidcidcidcidcidcidcidci...</td>\n",
       "      <td>['cidcidcidcidcidcidcidcidcidcidcidcidcidcidci...</td>\n",
       "      <td>[('cidcidcidcid', 173), ('cidcidcid', 173), ('...</td>\n",
       "      <td>{'cidcidcidcidcidcidcidcidcidcidcidcidcidcidci...</td>\n",
       "      <td>Environmental</td>\n",
       "    </tr>\n",
       "    <tr>\n",
       "      <th>7</th>\n",
       "      <td>7</td>\n",
       "      <td>7</td>\n",
       "      <td>Data/Environmental/PLAW-116publ62.pdf</td>\n",
       "      <td>133 STAT. 1118 \\n\\nPUBLIC LAW 116–62—OCT. 4, 2...</td>\n",
       "      <td>stat public law oct  oct  s alaska remotegene...</td>\n",
       "      <td>['stat', 'public', 'law', 'oct', 'oct', 's', '...</td>\n",
       "      <td>['stat', 'public', 'law', 'oct', 'oct', 'alask...</td>\n",
       "      <td>[('oct', 5), ('emissions', 4), ('public', 3), ...</td>\n",
       "      <td>{'stat': 1, 'public': 1, 'law': 1, 'oct': 1, '...</td>\n",
       "      <td>Environmental</td>\n",
       "    </tr>\n",
       "    <tr>\n",
       "      <th>9</th>\n",
       "      <td>9</td>\n",
       "      <td>9</td>\n",
       "      <td>Data/Environmental/PLAW-111publ191.pdf</td>\n",
       "      <td>124 STAT. 1278 \\n\\nPUBLIC LAW 111–191—JUNE 15,...</td>\n",
       "      <td>stat public law june  public law th congressa...</td>\n",
       "      <td>['stat', 'public', 'law', 'june', 'public', 'l...</td>\n",
       "      <td>['stat', 'public', 'law', 'june', 'public', 'l...</td>\n",
       "      <td>[('oil', 7), ('june', 4), ('act', 4), ('advanc...</td>\n",
       "      <td>{'stat': 1, 'public': 1, 'law': 1, 'june': 1, ...</td>\n",
       "      <td>Environmental</td>\n",
       "    </tr>\n",
       "  </tbody>\n",
       "</table>\n",
       "</div>"
      ],
      "text/plain": [
       "   Unnamed: 0  doc_num                            doc_filepath  \\\n",
       "1           1        1  Data/Environmental/PLAW-112publ177.pdf   \n",
       "3           3        3  Data/Environmental/PLAW-110publ288.pdf   \n",
       "5           5        5  Data/Environmental/PLAW-105publ156.pdf   \n",
       "7           7        7   Data/Environmental/PLAW-116publ62.pdf   \n",
       "9           9        9  Data/Environmental/PLAW-111publ191.pdf   \n",
       "\n",
       "                                            doc_text  \\\n",
       "1  PUBLIC LAW 112–177—SEPT. 28, 2012 \\n\\n126 STAT...   \n",
       "3  PUBLIC LAW 110–288—JULY 29, 2008 \\n\\nCLEAN BOA...   \n",
       "5  (cid:80)(cid:85)(cid:66)(cid:76)(cid:73)(cid:6...   \n",
       "7  133 STAT. 1118 \\n\\nPUBLIC LAW 116–62—OCT. 4, 2...   \n",
       "9  124 STAT. 1278 \\n\\nPUBLIC LAW 111–191—JUNE 15,...   \n",
       "\n",
       "                                        text_cleaned  \\\n",
       "1  public law sept   stat public law th congressa...   \n",
       "3  public law july  clean boating act of swalcilb...   \n",
       "5  cidcidcidcidcidcidcidcidcidcidcidcidcidcidcidc...   \n",
       "7   stat public law oct  oct  s alaska remotegene...   \n",
       "9   stat public law june  public law th congressa...   \n",
       "\n",
       "                                          nltk_words  \\\n",
       "1  ['public', 'law', 'sept', 'stat', 'public', 'l...   \n",
       "3  ['public', 'law', 'july', 'clean', 'boating', ...   \n",
       "5  ['cidcidcidcidcidcidcidcidcidcidcidcidcidcidci...   \n",
       "7  ['stat', 'public', 'law', 'oct', 'oct', 's', '...   \n",
       "9  ['stat', 'public', 'law', 'june', 'public', 'l...   \n",
       "\n",
       "                                      filtered_words  \\\n",
       "1  ['public', 'law', 'sept', 'stat', 'public', 'l...   \n",
       "3  ['public', 'law', 'july', 'clean', 'boating', ...   \n",
       "5  ['cidcidcidcidcidcidcidcidcidcidcidcidcidcidci...   \n",
       "7  ['stat', 'public', 'law', 'oct', 'oct', 'alask...   \n",
       "9  ['stat', 'public', 'law', 'june', 'public', 'l...   \n",
       "\n",
       "                                         word_counts  \\\n",
       "1  [('new', 367), ('application', 239), ('use', 2...   \n",
       "3  [('management', 14), ('recreational', 12), ('a...   \n",
       "5  [('cidcidcidcid', 173), ('cidcidcid', 173), ('...   \n",
       "7  [('oct', 5), ('emissions', 4), ('public', 3), ...   \n",
       "9  [('oil', 7), ('june', 4), ('act', 4), ('advanc...   \n",
       "\n",
       "                                                 bow      env_label  \n",
       "1  {'public': 1, 'law': 1, 'sept': 1, 'stat': 1, ...  Environmental  \n",
       "3  {'public': 1, 'law': 1, 'july': 1, 'clean': 1,...  Environmental  \n",
       "5  {'cidcidcidcidcidcidcidcidcidcidcidcidcidcidci...  Environmental  \n",
       "7  {'stat': 1, 'public': 1, 'law': 1, 'oct': 1, '...  Environmental  \n",
       "9  {'stat': 1, 'public': 1, 'law': 1, 'june': 1, ...  Environmental  "
      ]
     },
     "execution_count": 189,
     "metadata": {},
     "output_type": "execute_result"
    }
   ],
   "source": [
    "testing_df.head()"
   ]
  },
  {
   "cell_type": "code",
   "execution_count": 190,
   "metadata": {
    "ExecuteTime": {
     "end_time": "2021-01-24T03:30:39.053294Z",
     "start_time": "2021-01-24T03:30:39.036419Z"
    }
   },
   "outputs": [
    {
     "data": {
      "text/html": [
       "<div>\n",
       "<style scoped>\n",
       "    .dataframe tbody tr th:only-of-type {\n",
       "        vertical-align: middle;\n",
       "    }\n",
       "\n",
       "    .dataframe tbody tr th {\n",
       "        vertical-align: top;\n",
       "    }\n",
       "\n",
       "    .dataframe thead th {\n",
       "        text-align: right;\n",
       "    }\n",
       "</style>\n",
       "<table border=\"1\" class=\"dataframe\">\n",
       "  <thead>\n",
       "    <tr style=\"text-align: right;\">\n",
       "      <th></th>\n",
       "      <th>Unnamed: 0</th>\n",
       "      <th>doc_num</th>\n",
       "      <th>doc_filepath</th>\n",
       "      <th>doc_text</th>\n",
       "      <th>text_cleaned</th>\n",
       "      <th>nltk_words</th>\n",
       "      <th>filtered_words</th>\n",
       "      <th>word_counts</th>\n",
       "      <th>bow</th>\n",
       "      <th>env_label</th>\n",
       "    </tr>\n",
       "  </thead>\n",
       "  <tbody>\n",
       "    <tr>\n",
       "      <th>0</th>\n",
       "      <td>0</td>\n",
       "      <td>0</td>\n",
       "      <td>Data/Environmental/PLAW-104publ70.pdf</td>\n",
       "      <td>PUBLIC LAW 104–70—DEC. 23, 1995\\n\\n109 STAT. 7...</td>\n",
       "      <td>public law dec   stat public law th congressan...</td>\n",
       "      <td>['public', 'law', 'dec', 'stat', 'public', 'la...</td>\n",
       "      <td>['public', 'law', 'dec', 'stat', 'public', 'la...</td>\n",
       "      <td>[('may', 4), ('occupancy', 4), ('vehicle', 3),...</td>\n",
       "      <td>{'public': 1, 'law': 1, 'dec': 1, 'stat': 1, '...</td>\n",
       "      <td>Environmental</td>\n",
       "    </tr>\n",
       "    <tr>\n",
       "      <th>2</th>\n",
       "      <td>2</td>\n",
       "      <td>2</td>\n",
       "      <td>Data/Environmental/PLAW-116publ63.pdf</td>\n",
       "      <td>133 STAT. 1120 \\n\\nPUBLIC LAW 116–63—OCT. 4, 2...</td>\n",
       "      <td>stat public law oct  public law th congressan...</td>\n",
       "      <td>['stat', 'public', 'law', 'oct', 'public', 'la...</td>\n",
       "      <td>['stat', 'public', 'law', 'oct', 'public', 'la...</td>\n",
       "      <td>[('water', 19), ('state', 12), ('revolving', 9...</td>\n",
       "      <td>{'stat': 1, 'public': 1, 'law': 1, 'oct': 1, '...</td>\n",
       "      <td>Environmental</td>\n",
       "    </tr>\n",
       "    <tr>\n",
       "      <th>4</th>\n",
       "      <td>4</td>\n",
       "      <td>4</td>\n",
       "      <td>Data/Environmental/PLAW-108publ425.pdf</td>\n",
       "      <td>PUBLIC LAW 108–425—NOV. 30, 2004\\n\\nTIJUANA RI...</td>\n",
       "      <td>public law nov  tijuana river valley estuary a...</td>\n",
       "      <td>['public', 'law', 'nov', 'tijuana', 'river', '...</td>\n",
       "      <td>['public', 'law', 'nov', 'tijuana', 'river', '...</td>\n",
       "      <td>[('may', 9), ('act', 7), ('paragraph', 7), ('l...</td>\n",
       "      <td>{'public': 1, 'law': 1, 'nov': 1, 'tijuana': 1...</td>\n",
       "      <td>Environmental</td>\n",
       "    </tr>\n",
       "    <tr>\n",
       "      <th>6</th>\n",
       "      <td>6</td>\n",
       "      <td>6</td>\n",
       "      <td>Data/Environmental/PLAW-114publ182.pdf</td>\n",
       "      <td>PUBLIC LAW 114–182—JUNE 22, 2016 \\n\\nFRANK R. ...</td>\n",
       "      <td>public law june  frank r lautenberg chemical s...</td>\n",
       "      <td>['public', 'law', 'june', 'frank', 'r', 'laute...</td>\n",
       "      <td>['public', 'law', 'june', 'frank', 'lautenberg...</td>\n",
       "      <td>[('administrator', 295), ('chemical', 253), ('...</td>\n",
       "      <td>{'public': 1, 'law': 1, 'june': 1, 'frank': 1,...</td>\n",
       "      <td>Environmental</td>\n",
       "    </tr>\n",
       "    <tr>\n",
       "      <th>8</th>\n",
       "      <td>8</td>\n",
       "      <td>8</td>\n",
       "      <td>Data/Environmental/PLAW-111publ378.pdf</td>\n",
       "      <td>124 STAT. 4128 \\n\\nPUBLIC LAW 111–378—JAN. 4, ...</td>\n",
       "      <td>stat public law jan  public law th congressan...</td>\n",
       "      <td>['stat', 'public', 'law', 'jan', 'public', 'la...</td>\n",
       "      <td>['stat', 'public', 'law', 'jan', 'public', 'la...</td>\n",
       "      <td>[('stormwater', 6), ('federal', 5), ('jan', 4)...</td>\n",
       "      <td>{'stat': 1, 'public': 1, 'law': 1, 'jan': 1, '...</td>\n",
       "      <td>Environmental</td>\n",
       "    </tr>\n",
       "  </tbody>\n",
       "</table>\n",
       "</div>"
      ],
      "text/plain": [
       "   Unnamed: 0  doc_num                            doc_filepath  \\\n",
       "0           0        0   Data/Environmental/PLAW-104publ70.pdf   \n",
       "2           2        2   Data/Environmental/PLAW-116publ63.pdf   \n",
       "4           4        4  Data/Environmental/PLAW-108publ425.pdf   \n",
       "6           6        6  Data/Environmental/PLAW-114publ182.pdf   \n",
       "8           8        8  Data/Environmental/PLAW-111publ378.pdf   \n",
       "\n",
       "                                            doc_text  \\\n",
       "0  PUBLIC LAW 104–70—DEC. 23, 1995\\n\\n109 STAT. 7...   \n",
       "2  133 STAT. 1120 \\n\\nPUBLIC LAW 116–63—OCT. 4, 2...   \n",
       "4  PUBLIC LAW 108–425—NOV. 30, 2004\\n\\nTIJUANA RI...   \n",
       "6  PUBLIC LAW 114–182—JUNE 22, 2016 \\n\\nFRANK R. ...   \n",
       "8  124 STAT. 4128 \\n\\nPUBLIC LAW 111–378—JAN. 4, ...   \n",
       "\n",
       "                                        text_cleaned  \\\n",
       "0  public law dec   stat public law th congressan...   \n",
       "2   stat public law oct  public law th congressan...   \n",
       "4  public law nov  tijuana river valley estuary a...   \n",
       "6  public law june  frank r lautenberg chemical s...   \n",
       "8   stat public law jan  public law th congressan...   \n",
       "\n",
       "                                          nltk_words  \\\n",
       "0  ['public', 'law', 'dec', 'stat', 'public', 'la...   \n",
       "2  ['stat', 'public', 'law', 'oct', 'public', 'la...   \n",
       "4  ['public', 'law', 'nov', 'tijuana', 'river', '...   \n",
       "6  ['public', 'law', 'june', 'frank', 'r', 'laute...   \n",
       "8  ['stat', 'public', 'law', 'jan', 'public', 'la...   \n",
       "\n",
       "                                      filtered_words  \\\n",
       "0  ['public', 'law', 'dec', 'stat', 'public', 'la...   \n",
       "2  ['stat', 'public', 'law', 'oct', 'public', 'la...   \n",
       "4  ['public', 'law', 'nov', 'tijuana', 'river', '...   \n",
       "6  ['public', 'law', 'june', 'frank', 'lautenberg...   \n",
       "8  ['stat', 'public', 'law', 'jan', 'public', 'la...   \n",
       "\n",
       "                                         word_counts  \\\n",
       "0  [('may', 4), ('occupancy', 4), ('vehicle', 3),...   \n",
       "2  [('water', 19), ('state', 12), ('revolving', 9...   \n",
       "4  [('may', 9), ('act', 7), ('paragraph', 7), ('l...   \n",
       "6  [('administrator', 295), ('chemical', 253), ('...   \n",
       "8  [('stormwater', 6), ('federal', 5), ('jan', 4)...   \n",
       "\n",
       "                                                 bow      env_label  \n",
       "0  {'public': 1, 'law': 1, 'dec': 1, 'stat': 1, '...  Environmental  \n",
       "2  {'stat': 1, 'public': 1, 'law': 1, 'oct': 1, '...  Environmental  \n",
       "4  {'public': 1, 'law': 1, 'nov': 1, 'tijuana': 1...  Environmental  \n",
       "6  {'public': 1, 'law': 1, 'june': 1, 'frank': 1,...  Environmental  \n",
       "8  {'stat': 1, 'public': 1, 'law': 1, 'jan': 1, '...  Environmental  "
      ]
     },
     "execution_count": 190,
     "metadata": {},
     "output_type": "execute_result"
    }
   ],
   "source": [
    "training_df.head()"
   ]
  },
  {
   "cell_type": "markdown",
   "metadata": {},
   "source": [
    "# Train the Model"
   ]
  },
  {
   "cell_type": "code",
   "execution_count": 10,
   "metadata": {
    "ExecuteTime": {
     "end_time": "2021-01-23T20:34:03.541647Z",
     "start_time": "2021-01-23T20:34:03.530359Z"
    }
   },
   "outputs": [],
   "source": [
    "def create_nb_input(doc_df, label) :\n",
    "    ctr = 0\n",
    "    for word_list in doc_df['bow'].tolist() :\n",
    "#        print(type(word_list))\n",
    "#        print(word_list)\n",
    "#        break\n",
    "        if ctr == 0 :\n",
    "            nb_input = [(word_list, label)]\n",
    "        else :\n",
    "            nb_input.append((word_list, label))\n",
    "        ctr += 1\n",
    "    return nb_input"
   ]
  },
  {
   "cell_type": "code",
   "execution_count": 11,
   "metadata": {
    "ExecuteTime": {
     "end_time": "2021-01-23T20:34:24.364555Z",
     "start_time": "2021-01-23T20:34:24.354526Z"
    }
   },
   "outputs": [],
   "source": [
    "filter = training_df['env_label'] == \"Environmental\"\n",
    "env_training_df = training_df.loc[filter]\n",
    "notenv_training_df = training_df.loc[~filter]"
   ]
  },
  {
   "cell_type": "code",
   "execution_count": 12,
   "metadata": {
    "ExecuteTime": {
     "end_time": "2021-01-23T20:34:25.025956Z",
     "start_time": "2021-01-23T20:34:25.020140Z"
    }
   },
   "outputs": [
    {
     "name": "stdout",
     "output_type": "stream",
     "text": [
      "{'public': 1, 'law': 1, '112–177—sept': 1, 'stat': 1, '1327public': 1, '112–177112th': 1, 'congressan': 1, 'actto': 1, 'reauthorize': 1, 'federal': 1, 'insecticide': 1, 'fungicide': 1, 'rodenticide': 1, 'act.be': 1, 'enacted': 1, 'senate': 1, 'house': 1, 'representatives': 1, 'ofthe': 1, 'united': 1, 'states': 1, 'america': 1, 'congress': 1, 'assembled': 1, 'section': 1, '1.': 1, 'short': 1, 'title.this': 1, 'act': 1, 'may': 1, 'cited': 1, 'pesticide': 1, 'registration': 1, 'improve-ment': 1, 'extension': 1, '.sept': 1, 's.': 1, 'pesticideregistrationimprovementextension': 1, 'actof': 1, '2012.7': 1, 'usc': 1, 'note.sec': 1, '2.': 1, 'improvement': 1, 'maintenance': 1, 'fees.—': 1, 'fees.—section': 1, 'u.s.c': 1, '136a–1': 1, 'amended—': 1, 'paragraph': 1, 'subparagraph': 1, 'striking': 1, 'aggregateamount': 1, 'follows': 1, 'end': 1, 'inserting': 1, 'aggregate': 1, 'amount': 1, '27,800,000': 1, 'fiscal': 1, 'years': 1, 'through2017.': 1, 'ii': 1, 'clause': 1, 'shall': 1, 'andall': 1, 'thatfollows': 1, 'semicolon': 1, 'andinserting': 1, '115,500': 1, 'years2013': 1, 'period': 1, '184,800': 1, '2013through': 1, '2017.': 1, 'iii': 1, 'subclause': 1, '70,600': 1, '122,100': 1, 'iv': 1, 'human': 1, 'redesignating': 1, 'subparagraphs': 1, 'respectively': 1, 'humans': 1, 'andinsertingswalcilbuphtiwdorp1nvx7thksdnoesuarkdverdate': 1, 'mar': 1, '12:50': 1, 'oct': 1, 'jkt': 1, 'po': 1, 'frm': 1, 'fmt': 1, 'sfmt': 1, '\\\\publaw\\\\publ177.112': 1, 'publ177': 1, '1328public': 1, 'vi': 1, 'fol-lowing': 1, 'fee': 1, 'reduction': 1, 'certain': 1, 'small': 1, 'businesses.—': 1, 'definition.—in': 1, 'term': 1, 'qualified': 1, 'business': 1, 'entity': 1, 'means': 1, 'corporation': 1, 'partnership': 1, 'unincorporated': 1, 'that—': 1, 'fewer': 1, 'employees': 1, '3-year': 1, 'prior': 1, 'mostrecent': 1, 'billing': 1, 'cycle': 1, 'aver-age': 1, 'annual': 1, 'global': 1, 'gross': 1, 'revenue': 1, 'sourcesthat': 1, 'exceed': 1, '10,000,000': 1, 'holds': 1, 'registra-tions': 1, 'paragraph.': 1, 'waiver.—except': 1, 'provided': 1, 'administrator': 1, 'waive': 1, 'percent': 1, 'feeunder': 1, 'applicable': 1, 'first': 1, 'registrationof': 1, 'para-graph.': 1, 'limitation.—the': 1, 'notgrant': 1, 'waiver': 1, 'smallbusiness': 1, 'determines': 1, 'thatthe': 1, 'formed': 1, 'manipulated': 1, 'primarilyfor': 1, 'purpose': 1, 'qualifying': 1, 'waiver.': 1, 'vii': 1, 'redesignated': 1, 'paragraphs': 1, 'para-graphs': 1, 'conforming': 1, 'amendments.—': 1, 'subsection': 1, 'sub-section': 1, 'sentence': 1, 'third': 1, 'sixth': 1, 'sentences': 1, 'bystriking': 1, 'place': 1, 'appearsand': 1, 'fun-gicide': 1, '136w–8': 1, 'isamended—': 1, 'itappears': 1, 'clauses': 1, 'bb': 1, 'eachplace': 1, 'appears': 1, '—swalcilbuphtiwdorp1nvx7thksdnoesuarkdverdate': 1, 'applicable.': 1, 'revenues': 1, 'rev-': 1, 'andenue': 1, 'prohibition': 1, 'tolerance': 1, 'fees.—sec-tion': 1, 'food': 1, 'drug': 1, 'cosmetic': 1, '346a': 1, 'amended': 1, 'september': 1, '30,2012': 1, 'reregistration': 1, 'expedited': 1, 'processing': 1, 'fund.—': 1, 'source': 1, 'use.—section': 1, 'federalinsecticide': 1, 'enhance': 1, 'information': 1, 'sys-tems': 1, 'capabilities': 1, 'improve': 1, 'tracking': 1, 'pesticideregistration': 1, 'decisions': 1, 'placeit': 1, '—reregistration': 1, 'andpriated': 1, 'funds': 1, 'offset': 1, 'costs': 1, 'portion': 1, 'appro-': 1, 'similar': 1, 'applications.—section': 1, 'androdenticide': 1, 'matter': 1, 'preceding': 1, '1⁄8': 1, '1⁄7': 1, '1⁄9': 1, 'new': 1, 'application': 1, 'enhancements': 1, 'technology': 1, 'review': 1, 'applica-tions.—section': 1, 'following': 1, 'systemsfor': 1, 'applications.—': 1, 'general.—for': 1, 'use': 1, '800,000': 1, 'amounts': 1, 'made': 1, 'available': 1, 'adminis-trator': 1, 'fundfor': 1, 'activities': 1, 'described': 1, 'activities.—the': 1, 'amountsmade': 1, 'expeditedprocessing': 1, 'fund': 1, 'systemscapabilities': 1, 'office': 1, 'programs': 1, 'enhancetracking': 1, 'shallinclude—': 1, 'electronic': 1, 'of—': 1, 'submissions': 1, 'status': 1, 'conditional': 1, 'registrations': 1, 'enhancing': 1, 'databaseinformationregarding': 1, 'endangered': 1, 'species': 1, 'assessments': 1, 'registra-tion': 1, 'forswalcilbuphtiwdorp1nvx7thksdnoesuarkdverdate': 1, '1330public': 1, 'implementing': 1, 'capability': 1, 'electronicallyreview': 1, 'labels': 1, 'submitted': 1, 'actions': 1, 'acquiring': 1, 'capabilityto': 1, 'electronically': 1, 'assess': 1, 'evaluate': 1, 'confidential': 1, 'state-ments': 1, 'formula': 1, 'actions.': 1, 'asredesignated': 1, 'carry': 1, 'outthe': 1, 'goals': 1, 'established': 1, 'purposes': 1, 'establishedunder': 1, 'service': 1, 'insecti-cide': 1, 'schedule': 1, 'covered': 1, 'applications': 1, 'fees.—subject': 1, 'scheduleof': 1, 'correspondingregistration': 1, 'fees': 1, 'table': 1, 'division': 1, 'activeingredientsepano.newcrno.actiondecisionreviewtime': 1, 'months': 1, 'registra-tionservice': 1, 'r0101new': 1, 'active': 1, 'ingredient,24569,221r020218569,221r040318419,502food': 1, 'ingredient': 1, 'reducedrisk': 1, 'experi-mental': 1, 'permitapplication': 1, 'establishtemporary': 1, 'ap-plication': 1, 'credit': 1, 'feetoward': 1, 'in-gredient': 1, 'applicationthat': 1, 'swalcilbuphtiwdorp1nvx7thksdnoesuarkdverdate': 1, 'activeingredients—continuedepano.newcrno.r0604decisionreviewtime': 1, '21395,467r070516395,467r090616293,596actionnew': 1, 'non-food': 1, 'outdoor': 1, 'out-door': 1, 'reduced': 1, 'risk': 1, 'experimentaluse': 1, 'permit': 1, 'applica-tion': 1, 'be-fore': 1, 'forregistration': 1, 'credit45': 1, 'towardnew': 1, 'indoor': 1, 'experimental': 1, 'usepermit': 1, 'r110720219,949r120814219,949r121918165,375swalcilbuphtiwdorp1nvx7thksdnoesuarkdverdate': 1, '1332public': 1, 'activeingredients—continuedepano.newcrno.actiondecisionreviewtime': 1, 'r12210': 1, 'enriched': 1, 'isomer': 1, 'of18287,643r12318427,991registered': 1, 'mixed-iso-mer': 1, 'seed': 1, 'treatment': 1, 'includes': 1, 'agriculturaland': 1, 'non-agriculturalseeds': 1, 'residues': 1, 'notexpected': 1, 'raw': 1, 'agri-cultural': 1, 'commodities': 1, 'ex-perimental': 1, 'per-mit': 1, 'sub-mitted': 1, 'to-ward': 1, 'r125new12': 1, 'ingredient,16293,596extension': 1, 'decision': 1, 'time': 1, 'would': 1, 'otherwise': 1, 'satur-day': 1, 'sunday': 1, 'holiday': 1, 'extended': 1, 'nextbusiness': 1, 'day.swalcilbuphtiwdorp1nvx7thksdnoesuarkdverdate': 1, 'requests': 1, 'uses': 1, 'and/or': 1, 'nonfood': 1, 'contained': 1, 'inany': 1, 'arecovered': 1, 'base': 1, 'fooduse': 1, 'retain': 1, 'asthe': 1, 'must': 1, 'received': 1, 'agency': 1, 'one': 1, 'package': 1, 'feefor': 1, 'category': 1, 'covers': 1, 'maximum': 1, 'five': 1, 'products': 1, 'additional': 1, 'product': 1, 'inertapproval': 1, 'applicationpackage': 1, 'subject': 1, 'reg-istration': 1, 'inert': 1, 'approval': 1, 'allsuch': 1, 'associated': 1, 'together': 1, 'besubject': 1, 're-view': 1, 'case': 1, 'untilthat': 1, 'approved': 1, 'subsequent': 1, 'applicationfor': 1, 'another': 1, 'containing': 1, 'oran': 1, 'amendment': 1, 'proposed': 1, 'labeling': 1, 'deemed': 1, 'ac-tive': 1, 'feeand': 1, 'ofa': 1, 'useswill': 1, 'reviewtime': 1, 'neither': 1, 're-quested': 1, 'required': 1, 'ap-plicant': 1, 'applicant': 1, 'initiative': 1, 'support': 1, 'aftercompletion': 1, 'technical': 1, 'deficiency': 1, 'screening': 1, 'itselfa': 1, 'assessed': 1, 'fullregistration': 1, 'action': 1, 'involves': 1, 'amendedlabel': 1, 'date': 1, 'theagency': 1, 'provide': 1, 'draft': 1, 'accepted': 1, 'label': 1, 'includ-ing': 1, 'changes': 1, 'differ': 1, 'applicant-submitted': 1, 'relevant': 1, 'supporting': 1, 'data': 1, 'reviewed': 1, 'notify': 1, 'ei-ther': 1, 'agrees': 1, 'terms': 1, 'accept-ed': 1, 'issuedas': 1, 'final': 1, 'agency-stamped': 1, 'agree': 1, 'toone': 1, 'bythe': 1, 'resolve': 1, 'dif-ference': 1, 'withdraws': 1, 'without': 1, 'prejudice': 1, 'forsubsequent': 1, 'resubmission': 1, 'forfeits': 1, 'registrationservice': 1, 'cases': 1, 'upto': 1, 'calendar': 1, 'days': 1, 'reach': 1, 'agreement': 1, 'thefinal': 1, 'agency-accepted': 1, 'toall': 1, 'including': 1, 'upon': 1, 'reso-lution': 1, 'differences': 1, 'acceptedfinal': 1, 'registrant': 1, 'within': 1, 'daysfollowing': 1, 'written': 1, 'confirmation': 1, 'ofagreement': 1, 'agency.labeling.deadlines.notification.swalcilbuphtiwdorp1nvx7thksdnoesuarkdverdate': 1, '1334public': 1, 'usesepano.newcrno.actiondecisionreviewtime': 1, 'r13013first': 1, '21173,644r14014': 1, 'in-1540,518r15015first': 1, 'r16016first': 1, '2116239,684239,684r17017': 1, '1559,976r175new18': 1, 'uses1059,976food/food': 1, 'handling': 1, 'door': 1, 'food/food': 1, 'han-dling': 1, 'cropgroup': 1, 'resulting': 1, 'fromthe': 1, 'conversion': 1, 'ex-isting': 1, 'ormore': 1, 'revised': 1, 'cropgroups': 1, 'duced': 1, 'r18019': 1, 're-1059,976r190r20020': 1, '6or': 1, 'inone': 1, 're-duced': 1, '15359,85610359,856swalcilbuphtiwdorp1nvx7thksdnoesuarkdverdate': 1, 'uses—continuedepano.newcrno.actiondecisionreviewtime': 1, 'r21022': 1, 'ex-1244,431r22023': 1, 'ex-617,993perimental': 1, 'es-tablish': 1, 'temporary': 1, 'tol-erance': 1, 'perimental': 1, 'cropdestruct': 1, 'basis': 1, 'nocredit': 1, 'toward': 1, 'newuse': 1, 'credittoward': 1, 'mit': 1, 'whichrequires': 1, 'changesto': 1, 'non-crop': 1, 'destructbasis': 1, 'r23024': 1, 'r24025': 1, '151023,96923,969r25026': 1, 'non-617,993r251new27': 1, 'per-817,993r26028': 1, 'in-door': 1, '1211,577swalcilbuphtiwdorp1nvx7thksdnoesuarkdverdate': 1, '1336public': 1, 'r27029': 1, 'in-11,577r2718,82096r2731245,754door': 1, 'seedtreatment': 1, 'limiteduptake': 1, 'crops': 1, 'withestablished': 1, 'toler-ances': 1, 'e.g.': 1, 'soil': 1, 'orfoliar': 1, 'in-cludes': 1, 'lim-ited': 1, 'uptake': 1, 'rawagricultural': 1, 'commod-ities': 1, 'cropswith': 1, 'tol-erances': 1, 'soilor': 1, 'foliar': 1, 'and/ornon-food': 1, 'r27432': 1, 'seed12274,523extension': 1, '1338public': 1, 'add': 1, 'registeredproduct': 1, 'allitems': 1, 'onepackage': 1, 'newproduct': 1, 'however': 1, 'applicationonly': 1, 'proposes': 1, 'register': 1, 'thereare': 1, 'amendments': 1, 'associ-ated': 1, 'thenew': 1, 'subsequentto': 1, 'submission': 1, 'conclusionof': 1, 'separate': 1, 'new-use': 1, 'sepa-rate': 1, 'and/oroutdoor': 1, 'appropriate': 1, 'feeis': 1, 'due': 1, 'type': 1, 'longest': 1, 'applies': 1, 'requested': 1, 'application.any': 1, 'ini-tiative': 1, 'completion': 1, 'technicaldeficiency': 1, 'screen': 1, 'full': 1, 'forthe': 1, 'application.': 1, 'import': 1, 'andother': 1, 'tolerancesepano.newcrno.actionr28033': 1, 'establish': 1, 'toler-ance': 1, 'r29034': 1, 'foodusedecisionreviewtime': 1, '21289,4071557,882r29135': 1, 'toler-15347,288ances': 1, 'fooduses': 1, 'cropssubmitted': 1, 'pe-titionswalcilbuphtiwdorp1nvx7thksdnoesuarkdverdate': 1, 'tolerances—continuedepano.newcrno.actiondecisionreviewtime': 1, 'r29236': 1, 'amend': 1, 'established1141,124r293r2941248,51012291,060r2951559,976tolerance': 1, 'de-crease': 1, 'increase': 1, 'domestic': 1, 'applicant-initiated37': 1, 'inadvertent': 1, 'resi-dues': 1, 'crop': 1, 'ap-plicant-initiated38': 1, 'tolerances': 1, 'forinadvertent': 1, 'appli-cation': 1, 'applicant-ini-tiated39': 1, 'onerotational': 1, 're-sponse': 1, 'specificrotational': 1, 'applicant-ini-tiated40': 1, 'forresidues': 1, 'rotationalcrops': 1, 'response': 1, 'aspecific': 1, 'rotationalcrop': 1, 'petition': 1, 'submittedin': 1, 'applicant-initiatedr29615359,856swalcilbuphtiwdorp1nvx7thksdnoesuarkdverdate': 1, '1340public': 1, 'es-11246,74442': 1, 'established1353,120r297newr298newr299newtablished': 1, 'decrease': 1, 'in-crease': 1, 'peti-tion': 1, 'im-port': 1, 'applicant-initi-atedtolerance': 1, 'amend-ed': 1, 'requiringscience': 1, 'ad-dition': 1, 'appli-cant-initiated': 1, 'tablished': 1, 'orimport': 1, 'ofamended': 1, 're-quiring': 1, 'science': 1, 'addition': 1, 'tothose': 1, 'withthe': 1, 'applicant-initi-ated': 1, 'es-13258,740extension': 1, 'agency.labeling.deadlines.swalcilbuphtiwdorp1nvx7thksdnoesuarkdverdate': 1, '1342public': 1, 'productsepano.newcrno.actiondecisionreviewtime': 1, 'r30044': 1, 'similar41,434combination': 1, 'already': 1, 'registered': 1, 'identical': 1, 'orsubstantially': 1, 'similarin': 1, 'composition': 1, 'anduse': 1, 'registeredsource': 1, 'acute': 1, 'tox-icity': 1, 'efficacy': 1, 'crp–': 1, 'chem-istry': 1, 'cite-alldata': 1, 'citation': 1, 'se-lective': 1, 'citationwhere': 1, 'ownsall': 1, 'orapplicant': 1, 'submitsspecific': 1, 'authorizationletter': 1, 'dataowner': 1, 'alsoincludes': 1, 're-package': 1, 'registeredend-use': 1, 'manufac-turing-use': 1, 'productthat': 1, 'requires': 1, 'datasubmission': 1, 'datamatrix': 1, 'products—continuedepano.newcrno.actiondecisionreviewtime': 1, 'r30145': 1, 'similar41,720combination': 1, 'selectivedata': 1, 'fordata': 1, 'productchemistry': 1, 'and/oracute': 1, 'toxicity': 1, 'and/orpublic': 1, 'health': 1, 'pest': 1, 'ef-ficacy': 1, 'appli-cant': 1, 'allrequired': 1, 'anddoes': 1, 'spe-cific': 1, '1344public': 1, 'r31046': 1, 'end-use': 1, 'manu-74,807facturing-use': 1, 'productwith': 1, 'includesproducts': 1, 'containingtwo': 1, 'reg-istered': 1, 'ingredi-ents': 1, 'previously': 1, 'com-bined': 1, 're-quires': 1, 'datapackage': 1, 'rdonly': 1, 'dataand/or': 1, 'waivers': 1, 'ofdata': 1, 'chemistryand/or∑': 1, 'and/or∑': 1, 'child': 1, 'resistant': 1, 'pack-aging': 1, 'r314new47': 1, 'product86,009containing': 1, 'two': 1, 'ingredientsnever': 1, 'com-bination': 1, 'formu-lated': 1, 'iden-tical': 1, 'substantiallysimilar': 1, 'labelsof': 1, 'currently': 1, 'productswhich': 1, 'separately': 1, 'con-tain': 1, 'respectivecomponent': 1, 'in-gredients': 1, 'requiresreview': 1, 'pack-age': 1, 'rd': 1, 'and/orwaivers': 1, 'foronly': 1, '1346public': 1, 'products—continuedepano.newcrno.actionr315newdecisionreviewtime': 1, '98,00048': 1, 'non-foodanimal': 1, 'withsubmission': 1, 'target': 1, 'animalsafety': 1, 'studies': 1, 'animal': 1, 'safety': 1, 'studiesand/or∑': 1, 'newphysical': 1, 'form': 1, 'inscience': 1, 'divisions': 1, 'amanufacturing-useproduct': 1, 'r3201211,996r33150': 1, 'repack': 1, 'of32,294swalcilbuphtiwdorp1nvx7thksdnoesuarkdverdate': 1, 'r33251': 1, 'manufacturing-use24256,883product': 1, 'registeredactive': 1, 'un-registered': 1, 'ofactive': 1, 'com-pletely': 1, 'genericdata': 1, 'rdand': 1, 'withunregistered': 1, 'sourceof': 1, 'datareview': 1, 'physicalform': 1, 'etc': 1, 'cite-all': 1, 'orselective': 1, 'r333new52': 1, 'mup': 1, 'or1017,993swalcilbuphtiwdorp1nvx7thksdnoesuarkdverdate': 1, '1348public': 1, 'r334new53': 1, 'or1117,993end': 1, 'ingre-dient': 1, 'requiresscience': 1, 'physical': 1, 'selective': 1, 'ci-tation': 1, 'extension.labeling.deadlines.notification': 1, 'day': 1, 'using': 1, 'yet': 1, 'pending': 1, 'considered': 1, 'unregistered': 1, 'activeingredient': 1, 'agency.swalcilbuphtiwdorp1nvx7thksdnoesuarkdverdate': 1, 'toregistrationepano.newcrno.actiondecisionreviewtime': 1, 'r34054': 1, 'requiring43,617r345new55': 1, 'amending': 1, 'ani-78,000r35056': 1, 'requiring911,996data': 1, 'withinrd': 1, 'toprecautionary': 1, 'labelstatements': 1, 'mal': 1, 'oftarget': 1, 'safetydata': 1, 'rei': 1, 'orppe': 1, 'phi': 1, 'userate': 1, 'number': 1, 'ofapplications': 1, 'addaerial': 1, 'ormodify': 1, 'gw/sw': 1, 'advi-sory': 1, 'statement': 1, 'unregisteredsource': 1, 'r351newr352new57': 1, 'adding': 1, 'a811,996811,99658': 1, 'al-ready': 1, 'method': 1, 'ofsupport': 1, 'notapply': 1, 'applicantowns': 1, '1350public': 1, 'toregistration—continuedextension.labeling.deadlines.notification.epano.newcrno.r371action59': 1, 'include': 1, 'ex-tending': 1, 'stime': 1, 'decisionreviewtime': 1, '69,151': 1, 'day.fast-track': 1, 'epa-initiated': 1, 'charged': 1, 'registrant-initiated': 1, 'fast-track': 1, 'amendmentsare': 1, 'completed': 1, 'timelines': 1, 'specified': 1, 'fifra': 1, 'section3': 1, 'reg-istrant-initiatedtheantimicrobials': 1, 'timelinesspecified': 1, 'initiated': 1, 'no-tification': 1, 'pr': 1, 'notices': 1, 'notice': 1, '98–10': 1, 'continueunder': 1, 'serv-ice': 1, 'requiring': 1, 'aresubject': 1, 'fees.amendmentshandledby': 1, 'actionsepano.newcrno.actiondecisionreviewtime': 1, 'r12460': 1, 'ruling': 1, 'on62,294r27261': 1, 'study': 1, 'pro-32,294preapplication': 1, 'studywaivers': 1, 'applicant-initiatedtocol': 1, 'excludes': 1, 'dart': 1, 'pre-registration': 1, 'con-ference': 1, 'rapid': 1, 'dntprotocol': 1, 'pro-tocol': 1, 'needing': 1, 'hsrbreviewr275newr37062': 1, 'rebuttal': 1, 're-viewed': 1, 'protocol': 1, 'initiated63': 1, 'cancer': 1, 'reassessment': 1, 'applicant-initiated32,29418179,818': 1, 'day.extension.': 1, 'antimicrobials': 1, 'a3806424104,187food': 1, 'exemption': 1, 'a39065food': 1, 'tol-24173,644erance': 1, '1352public': 1, 'activeingredients—continuedepano.newcrno.actiona40066': 1, 'mm': 1, '1886,823a41067': 1, '21173,644uses': 1, 'thanfifra': 1, 'a42068': 1, '1857,882a43069': 1, '2086,823a43170': 1, '1260,638uses': 1, 'low-risk': 1, 'low-toxicityfood-grade': 1, 'efficacytesting': 1, 'publichealth': 1, 'claims': 1, 're-quired': 1, 'glpand': 1, 'dis/tss': 1, 'ad-approvedstudy': 1, 'agency.labeling.deadline.swalcilbuphtiwdorp1nvx7thksdnoesuarkdverdate': 1, '1354public': 1, 'a440712128,942first': 1, 'establishtolerance': 1, 'a45072first': 1, 'ex-emption': 1, '211586,82311,5771528,94275': 1, '15173,652a48076': 1, 'non-17,36577': 1, 'non-food104,190establish': 1, 'fifra§2': 1, '99a460a470a471newa481newa49078': 1, 'usesother': 1, '1528,942swalcilbuphtiwdorp1nvx7thksdnoesuarkdverdate': 1, 'uses—continueda50080': 1, 'non-11,577epano.newcrno.actiona491new79': 1, 'otherthan': 1, 'a501newa510a511newfood': 1, '15173,6529969,4621211,5771269,462': 1, 'day.extension.swalcilbuphtiwdorp1nvx7thksdnoesuarkdverdate': 1, '1356public': 1, 'epa': 1, 'rules': 1, 'newly': 1, 'require': 1, 'clearanceunder': 1, 'ffdca': 1, 'anti-microbial': 1, 'subjectto': 1, 'clearance': 1, 'clearanceof': 1, 'effective': 1, 'therule': 1, 'agency.time': 1, 'period.labeling.deadlines.notification.swalcilbuphtiwdorp1nvx7thksdnoesuarkdverdate': 1, 'application.swalcilbuphtiwdorp1nvx7thksdnoesuarkdverdate': 1, '1358public': 1, 'productsand': 1, 'amendmentsepano.newcrno.a530actiondecisionreviewtime': 1, '41,15984': 1, 'identicalor': 1, 'substantially': 1, 'simi-lar': 1, 'compositionand': 1, 'nodata': 1, 'onlyproduct': 1, 'chemistrydata': 1, 'whenapplicant': 1, 'owns': 1, 'submits': 1, 'specificauthorization': 1, 'letterfor': 1, 'owner': 1, 'cat-egory': 1, 'also': 1, 'includes100': 1, 'ofregistered': 1, 'ormanufacturing-useproduct': 1, 'requiresno': 1, 'submissionnor': 1, 'matrix': 1, 'amendments—continuedepano.newcrno.a531actiondecisionreviewtime': 1, '41,65485': 1, 'selec-tive': 1, 'citationonly': 1, 'prod-uct': 1, 'chemistry': 1, 'datacitation': 1, 'except': 1, 'forproduct': 1, 'a53254,631a54087': 1, 'usesonly': 1, '54,631swalcilbuphtiwdorp1nvx7thksdnoesuarkdverdate': 1, '1360public': 1, 'amendments—continuedepano.newcrno.actiondecisionreviewtime': 1, 'a55088': 1, '74,631a56089': 1, 'manufacturing-use1217,365uses': 1, 'non-fqpa': 1, '493,47411,996a57090label': 1, 'a572new91': 1, 'amend-ment': 1, 'as-sessment': 1, 'sciencebranch': 1, 'ppe': 1, 'oruse': 1, 'rate': 1, 'activeingredient.swalcilbuphtiwdorp1nvx7thksdnoesuarkdverdate': 1, '1361labeling.deadlines.notification': 1, 'agency.fast-track': 1, 'reg-theistrant-initiatedantimicrobials': 1, 'permits': 1, 'actionsepano.newcrno.actiona52092': 1, '95,789swalcilbuphtiwdorp1nvx7thksdnoesuarkdverdate': 1, '1362public': 1, 'actions—continuedepano.newcrno.actiondecisionreviewtime': 1, 'a52193': 1, 'health32,250a52294': 1, 'health1211,025efficacy': 1, 'ad': 1, 'perad': 1, 'internal': 1, 'guid-ance': 1, 'efficacyprotocol': 1, 'proc-ess': 1, 'code': 1, 'in-clude': 1, 'studyprotocol': 1, 'devices': 1, 'mak-ing': 1, 'pesticidal': 1, 'applicant-initiated': 1, 'tier': 1, '1efficacy': 1, 'outside': 1, 'bymembers': 1, 'effi-cacy': 1, 'reviewexpert': 1, 'panel': 1, 'codewill': 1, 'healthefficacy': 1, 'reviewfor': 1, 'makingpesticidal': 1, 'ap-plicant-initiated': 1, 'tier2swalcilbuphtiwdorp1nvx7thksdnoesuarkdverdate': 1, 'ingredient,18138,91696': 1, 'ingredient,1883,594a524newa525newa526newa527newexperimental': 1, 'requirestolerance': 1, 'ingredientapplication': 1, 'fol-lows': 1, 'exemption.credit': 1, 'outdooruse': 1, 'offee': 1, 'indooruse': 1, 'ingredient,1586,82398': 1, 'ingredient,1558,000swalcilbuphtiwdorp1nvx7thksdnoesuarkdverdate': 1, '1364public': 1, 'actions—continuedepano.newcrno.actiona528newa529newa523new99': 1, 'reviewor': 1, 'assessment': 1, 'i.e.': 1, 'toxicology': 1, 'orexposure': 1, 'protocols': 1, '1520,26010,36599101': 1, 'protocol11,025swalcilbuphtiwdorp1nvx7thksdnoesuarkdverdate': 1, 'actions—continuedepano.newcrno.actiona571new102': 1, 'refinedecological': 1, 'and/orendangered': 1, 'applicant-initiateddecisionreviewtime': 1, '1886,823': 1, 'agency.extension.labeling.deadlines.notification.swalcilbuphtiwdorp1nvx7thksdnoesuarkdverdate': 1, '1366public': 1, 'biopesticides': 1, 'pollution': 1, 'preven-tion': 1, 'microbial': 1, 'biochemical': 1, 'pes-ticides': 1, 'ingredientsepano.newcrno.actionb580b590103': 1, 'toestablish': 1, 'toleranceexemption': 1, '1946,3051728,942b600105': 1, '1317,365non-food': 1, 'b610106': 1, '1011,577experimental': 1, 'atemporary': 1, 'toleranceor': 1, 'exemptionexperimental': 1, 'establishpermanent': 1, 'toleranceexemptionno': 1, 'change': 1, 'per-manent': 1, 'b611newb612new107': 1, '1211,577108': 1, '1015,918swalcilbuphtiwdorp1nvx7thksdnoesuarkdverdate': 1, 'ingredients—continueddecisionreviewtime': 1, '1115,918epano.newcrno.actionb613new109': 1, 'convert': 1, 'apermanent': 1, 'exemp-tion': 1, '1368public': 1, '2012extension.': 1, 'ingredients—continuedepano.newcrno.actiondecisionreviewtime': 1, 'b620110': 1, '75,789experimental': 1, 'destruct': 1, 'greater': 1, 'whichcase': 1, 'newinert': 1, 'thesame': 1, 'labelingwill': 1, 'theregistration': 1, 'thatfirst': 1, 'addi-tional': 1, 'informa-tion': 1, 'tosupport': 1, 'deficiencyscreening': 1, 'b630111': 1, 'petition1311,577b631112': 1, 'petition1211,577to': 1, 'estab-lished': 1, 'b640113': 1, 'petition1917,365b643newb642newb644new114': 1, 'petition1011,577115': 1, '1228,942food/food': 1, 'toan': 1, '811,577b650117': 1, '75,789': 1, '1370public': 1, 'b652new118': 1, 'registered1311,577source': 1, 'pe-tition': 1, 'es-tablished': 1, 'ortolerance': 1, 'submis-sion': 1, 'cita-tion': 1, 'accepteddata': 1, 'generated': 1, 'atgovernment': 1, 'expense': 1, 'orcitation': 1, 'scientif-ically-sound': 1, 'rationalebased': 1, 'publiclyavailable': 1, 'literatureor': 1, 'in-formation': 1, 'ad-dresses': 1, 're-quirement': 1, 'sub-mission': 1, 'requestfor': 1, 'require-ment': 1, 'waivedsupported': 1, 'sci-entifically-sound': 1, 'ra-tionale': 1, 'explainingwhy': 1, 'apply': 1, '1372public': 1, 'b660119': 1, 'registered41,159source': 1, 'nochange': 1, 'exemption.no': 1, 'oronly': 1, 'orauthorization': 1, 'fromdata': 1, 'dem-onstrated': 1, 'categoryincludes': 1, 'microbialpesticides': 1, 'mustnot': 1, 're-isolated': 1, 'b670120': 1, 'registered74,631source': 1, '1374public': 1, 'b671121': 1, 'unregis-1711,577tered': 1, 'toamend': 1, 'establishedtolerance': 1, 'requires:1': 1, 'ofproduct': 1, 'specific': 1, 'pre-viously': 1, 'andaccepted': 1, 'gen-erated': 1, 'governmentexpense': 1, 'scientifically-soundrationale': 1, 'based': 1, 'onpublicly': 1, 'lit-erature': 1, 'rel-evant': 1, 'informationthat': 1, 'addresses': 1, 'thedata': 1, 'requirement': 1, 'or5': 1, 're-quest': 1, 'bewaived': 1, 'supported': 1, 'bya': 1, 'b672122': 1, 'unregis-138,269tered': 1, 'usewith': 1, 'exemptionpreviously': 1, 'submissionof': 1, 'specificdata': 1, 'ofpreviously': 1, 'reviewedand': 1, 'or3': 1, '1376public': 1, 'products—continueddecisionreviewtime': 1, '104,63141,159epano.newcrno.actionb673newb674newb675new123': 1, 'mup/ep': 1, 'oftechnical': 1, 'grade': 1, 'tgai': 1, 'anagency': 1, 'determina-tion': 1, 'citeddata': 1, 'supports': 1, 're-pack': 1, 'istered': 1, 'completelynew': 1, 'generic': 1, 'registereduses': 1, 'reg-108,269swalcilbuphtiwdorp1nvx7thksdnoesuarkdverdate': 1, 'b676new126': 1, 'more138,269than': 1, 'oneactive': 1, 'isan': 1, 'besubmitted': 1, '1378public': 1, '108,000epano.newcrno.actionb677new127': 1, 'amendmentsepano.newcrno.actiondecisionreviewtime': 1, 'b621128': 1, 'experi-74,631b622new129': 1, 'experi-1111,577b641130': 1, 'es-1311,577b680131': 1, 'registered54,631b681132': 1, 'unregis-75,513mental': 1, 'temporarytolerance': 1, 'toleranceexemption.mental': 1, 'anestablished': 1, 'tem-porary': 1, 'exemption.tablished': 1, 'exemption.source': 1, 'requiresdata': 1, 'tered': 1, '1380public': 1, 're-64,631b683newb684newquires': 1, 'review/updateof': 1, 'previous': 1, 'withoutdata': 1, 'torei': 1, 'ani-88,000extension': 1, 'fees.amendmentshandledbyswalcilbuphtiwdorp1nvx7thksdnoesuarkdverdate': 1, 'straight': 1, 'chain': 1, 'lepidopteranpheromones': 1, 'sclps': 1, 'epano.newcrno.actiondecisionreviewtime': 1, 'b690b700135': 1, 'newactive': 1, 'ornew': 1, 'use.b701137': 1, 'extend': 1, 'per-mit.7742,3161,1591,159swalcilbuphtiwdorp1nvx7thksdnoesuarkdverdate': 1, '1382public': 1, '—continuedepano.newcrno.actiondecisionreviewtime': 1, 'b710138': 1, 'b720139': 1, 'registered51,159source': 1, 'b721140': 1, 'unregis-72,426swalcilbuphtiwdorp1nvx7thksdnoesuarkdverdate': 1, '1384public': 1, 'b722141': 1, 'amend-72,246ment': 1, 'quiring': 1, 'b730142': 1, 're-51,159extension': 1, 'activeingredient.fast-track': 1, '1386public': 1, 'pollutionprevention': 1, 'actepano.newcrno.actiondecisionreviewtime': 1, 'b614new143': 1, 'on32,294preapplication': 1, 'applicant-initiatedb615new144': 1, 'initiated32,294swalcilbuphtiwdorp1nvx7thksdnoesuarkdverdate': 1, 'act—continuedepano.newcrno.actiondecisionreviewtime': 1, 'b682145': 1, 'appli-32,205cant': 1, 'ex-cludes': 1, 'hsrbreview': 1, 'plant': 1, 'incorporated': 1, 'protectants': 1, 'pips': 1, 'b740146': 1, 'per-686,823mit': 1, 'nopetition': 1, 'tolerance/tolerance': 1, 'exemption.includes:1': 1, 'non-food/feed': 1, 'pip': 1, 'food/feed': 1, 'anew': 1, 'pipwith': 1, 'pipin': 1, 'tolerance/toler-ance': 1, 'ex-ists': 1, 'intendeduse': 1, '1388public': 1, '—continuedepano.newcrno.b750actiondecisionreviewtime': 1, '9115,763b77015173,644147': 1, 'witha': 1, 'establisha': 1, 'tolerance/tol-erance': 1, 'ingredient.includes': 1, 'petitionto': 1, 'b771fee': 1, 'ingredientthat': 1, 'sap': 1, 'follows.b77110115,763swalcilbuphtiwdorp1nvx7thksdnoesuarkdverdate': 1, '—continuedepano.newcrno.b772actiondecisionreviewtime': 1, '311,577b773528,942150': 1, 'amendor': 1, 'since': 1, 'theestablished': 1, 'exemptionfor': 1, 'unaffected.151': 1, 'ex-tend': 1, 'tol-erance/tolerance': 1, 'ingredient.152': 1, 'non-food/feed.153': 1, 'sapreview': 1, 'permanenttolerance/toleranceexemption': 1, 'basedon': 1, 'existing': 1, 'exemption.b780b790b80012144,70418202,58512231,585swalcilbuphtiwdorp1nvx7thksdnoesuarkdverdate': 1, '1390public': 1, '—continuedepano.newcrno.b810actiondecisionreviewtime': 1, '18289,407155': 1, 'exemption.sap': 1, 'exemptionof': 1, 'ingre-dient.157': 1, 'b82015289,407b84021347,288swalcilbuphtiwdorp1nvx7thksdnoesuarkdverdate': 1, 'b851158': 1, 'applica-9115,763b870934,729b880928,942tion': 1, 'event': 1, 'apreviously': 1, 'registeredpip': 1, 'petitionsince': 1, 'permanent': 1, 'alreadyestablished': 1, 'theactive': 1, '.159': 1, 'additionaldata': 1, 'isalready': 1, 'establishedfor': 1, '1392public': 1, '—continuedepano.newcrno.b881actiondecisionreviewtime': 1, '1586,823161': 1, 'withnegotiated': 1, 'acreagecap': 1, 'time-limitedregistration': 1, 'b883new9115,763swalcilbuphtiwdorp1nvx7thksdnoesuarkdverdate': 1, '—continueddecisionreviewtime': 1, '12144,704986,823epano.newcrno.actionb884newb885new163': 1, 'breeding': 1, 'stack': 1, 'approvedpips': 1, 'convertsregistration': 1, 'com-mercial': 1, '.b890165': 1, 'a957,882swalcilbuphtiwdorp1nvx7thksdnoesuarkdverdate': 1, '1394public': 1, 'b891166': 1, 'a15115,763seed': 1, 'exemptionalready': 1, 'asextending': 1, 'expira-tion': 1, 'modifyingan': 1, 'irm': 1, 'plan': 1, 'add-ing': 1, 'insect': 1, 'becontrolled': 1, 'b900167': 1, 'a611,577b901168': 1, 'a1269,458b902169': 1, 'review35,789swalcilbuphtiwdorp1nvx7thksdnoesuarkdverdate': 1, 'b903170inert': 1, 'toler-657,882ance': 1, 'marker': 1, 'asnpt': 1, 'inbppd.swalcilbuphtiwdorp1nvx7thksdnoesuarkdverdate': 1, '1396public': 1, '—continuedepano.newcrno.b904171actionimport': 1, 'processed': 1, 'commod-ities/food': 1, 'inertor': 1, '.decisionreviewtime': 1, '9115,763extension': 1, 'beenregistered.rently': 1, 'cur-': 1, 'transfer': 1, 'conventional': 1, 'fornew': 1, 'field': 1, 'corn': 1, 'sweet': 1, 'scientific': 1, 'involved': 1, 'complex': 1, 'epaoften': 1, 'seeks': 1, 'advice': 1, 'advisory': 1, 'onrisks': 1, 'pesticides': 1, 'pose': 1, 'wildlife': 1, 'farm': 1, 'workers': 1, 'appli-cators': 1, 'non-target': 1, 'well': 1, 'resistance': 1, 'novelscientific': 1, 'issues': 1, 'surrounding': 1, 'technologies': 1, 'scientists': 1, 'thesap': 1, 'make': 1, 'recommend': 1, 'policy': 1, 'provideadvice': 1, 'used': 1, 'isinvaluable': 1, 'strives': 1, 'protect': 1, 'envi-ronment': 1, 'risks': 1, 'posed': 1, 'takes': 1, 'toschedule': 1, 'prepare': 1, 'meetings': 1, 'timeand': 1, 'needed': 1, 'stacked': 1, 'deployment': 1, 'different': 1, 'blend': 1, 'negotiated': 1, 'acreage': 1, 'cap': 1, 'depend': 1, 'deter-mination': 1, 'potential': 1, 'environmental': 1, 'exposure': 1, 'organisms': 1, 'targeted': 1, 'developing': 1, 'resist-ance': 1, 'substance': 1, 'uncertainty': 1, 'risksmay': 1, 'reduce': 1, 'allowable': 1, 'quantity': 1, 'andtype': 1, 'organism': 1, 'lack': 1, 'insectresistance': 1, 'management': 1, 'usually': 1, 'forseed-increase': 1, 'registrants': 1, 'encouraged': 1, 'consultwith': 1, 'thiscategory': 1, 'concurrently': 1, 'anapplication': 1, 'commercial': 1, 'example': 1, 'modifications': 1, 'applicant-ini-tiated': 1, 'fees.swalcilbuphtiwdorp1nvx7thksdnoesuarkdverdate': 1, 'ingredients': 1, 'external': 1, 'reviewand': 1, 'miscellaneous': 1, 'actionsdecisionreviewtime': 1, '1218,000105,0003,00010,000888epano.newcrno.actioni001i002newi003newi004newi005newi006new172': 1, 'ap-proved': 1, 'proved': 1, 'useinert': 1, 'withnew': 1, 'pattern': 1, 'newdata': 1, 'nonew': 1, 'ap-5,000177': 1, 'ap-63,000swalcilbuphtiwdorp1nvx7thksdnoesuarkdverdate': 1, '1398public': 1, 'actions—continueddecisionreviewtime': 1, '41,500543,4002,80097,200epano.newcrno.actioni007newi008newi009newi010newm001newm002new178': 1, 'substan-tially': 1, 'ingre-dients': 1, 'originalinert': 1, 'iscompositionally': 1, 'usepattern': 1, 'poly-mer': 1, 'non': 1, 'erance': 1, 'exemptiondescriptor': 1, 'oneor': 1, 'casrns': 1, 'requir-ing': 1, 'studiesreview': 1, 'board': 1, 'reviewas': 1, 'defined': 1, 'cfr26': 1, 'anactive': 1, 'stud-ies': 1, '40cfr': 1, 'ofan': 1, 're-97,200181': 1, 'tol-61,500swalcilbuphtiwdorp1nvx7thksdnoesuarkdverdate': 1, 'actions—continuedepano.newcrno.actionm003newdecisionreviewtime': 1, '1258,000184': 1, 'peerreview': 1, 'consultation': 1, 'withfifra': 1, 'ad-visory': 1, 'anaction': 1, 'decisiontimeframe': 1, 'lessthan': 1, 'ad-ministrator': 1, 'de-fined': 1, 'anovel': 1, 'unique': 1, 'applicationtechnology': 1, 'excludespip': 1, '1400public': 1, 'actions—continuedepano.newcrno.actionm004newdecisionreviewtime': 1, '1858,000185': 1, 'greaterthan': 1, 'actions—continuedepano.newcrno.actionm005newdecisionreviewtime': 1, '920,000186': 1, 'combina-tion': 1, 'contains': 1, 'unreg-istered': 1, 'con-ventional': 1, 'bio-pesticide': 1, 'requirescoordination': 1, 'withother': 1, 'regulatory': 1, 'divi-sions': 1, 'conduct': 1, 'labeland/or': 1, 'verify': 1, 'va-lidity': 1, 'dataas': 1, 'exist-ing': 1, 'thecombination': 1, 'request': 1, 'let-1250m006newm007newters': 1, 'certification': 1, 'gold': 1, 'seal': 1, 'oneactively': 1, 'registeredproduct.clusive': 1, 'asprovided': 1, 'fifrasection': 1, 'ex-125,000swalcilbuphtiwdorp1nvx7thksdnoesuarkdverdate': 1, '1402public': 1, 'm008new189': 1, 'grant': 1, 'exclu-101,500sive': 1, 'minor': 1, 'sec-tion': 1, 'depend-ent': 1, 'eachapplication': 1, 'respective': 1, 'fee.the': 1, 'match': 1, 'pria': 1, 'pendinginert': 1, 'unless': 1, 'as-sociated': 1, 'sub-ject': 1, 'mul-tiple': 1, 'grouped': 1, 'chemical': 1, 'class': 1, 'singleregistration': 1, 'ofsuch': 1, 'rule': 1, 'de-pendent': 1, 'hsrb': 1, 'times': 1, 'associatedactions': 1, 'run': 1, 'latest': 1, 'actionwill': 1, '1403labeling.deadlines.notification': 1, 'agency.': 1, 'october': 1, 'atthe': 1, 'administratorsubsectionapplication': 1, 'undertherejected': 1, 'fund.—section': 1, '7u.s.c': 1, 'grants': 1, '500,000.': 1, '1404public': 1, 'reforms': 1, 'periods.—section': 1, 'thefederal': 1, 'u.s.c.136w–8': 1, 'registrationimprovement': 1, 'renewal': 1, 'publishin': 1, 'administratorshall': 1, 'publicly': 1, 'appearing': 1, 'thecongressional': 1, 'record': 1, 'pages': 1, 's10409': 1, 'followsthrough': 1, 'completeness': 1, 'later': 1, 'inclause': 1, 'initial': 1, 'content': 1, 'preliminary': 1, 'technicalscreenings.—': 1, 'screenings.—': 1, 'content.—not': 1, 'designated': 1, 'addingat': 1, 'screening.—after': 1, 'conducting': 1, 'screeningdescribed': 1, 'accordance': 1, 'withclause': 1, 'apreliminary': 1, 'screening—': 1, 'aa': 1, 'dateon': 1, 'periodbegins': 1, 'timereview': 1, 'periods': 1, 'thefollowing': 1, 'rejection.—': 1, 'general.—if': 1, 'deter-mines': 1, 'com-pletes': 1, 'underclause': 1, 'failed': 1, 'initialcontent': 1, 'theapplicant': 1, 'correct': 1, 'failure': 1, 'thedate': 1, 'applicantdeadlines.determination.swalcilbuphtiwdorp1nvx7thksdnoesuarkdverdate': 1, '1405time': 1, 'period.receives': 1, 'notification': 1, 'reject': 1, 'notification.—the': 1, 'every': 1, 'effort': 1, 'writtennotification': 1, 'rejection': 1, '10-day': 1, 'begins': 1, 'datethe': 1, 'completes': 1, 'tech-nical': 1, 'screening.': 1, 'heading': 1, 'cc': 1, 'con-tains': 1, 'contain': 1, 'requirements': 1, 'technicalscreening.—in': 1, 'technicalscreening': 1, 'shalldetermine': 1, 'if—determination.': 1, 'accurateand': 1, 'complete': 1, 'areconsistent': 1, 'pro-posal': 1, 'therequirement': 1, '21u.s.c': 1, 'fullreview': 1, 'standards': 1, 'could': 1, 'resultin': 1, 'granting': 1, 'reports.—section': 1, 'march': 1, 'atend': 1, 'viii': 1, 'extensions': 1, 'agreed': 1, 'alongwith': 1, 'description': 1, 'reason': 1, 'administratorwas': 1, 'unable': 1, 'deci-sion': 1, 'theend': 1, 'periodand': 1, 'progress': 1, 'toward—': 1, 'carrying': 1, 'amountsfrom': 1, 'processingfund': 1, '1406public': 1, '2012publicinformation.deadline.assessment.evaluation.deadline.notification.review.assessment.': 1, 'systems': 1, 'electronictracking': 1, 'december': 1, '31,2013': 1, 'system': 1, 'statusof': 1, 'making': 1, 'noncon-fidential': 1, 'related': 1, 'endan-gered': 1, 'knowledge': 1, 'database': 1, 'makingnonconfidential': 1, 'databasepublicly': 1, 'electronicallysubmit': 1, 'registrationactions': 1, 'actionsby': 1, 'facilitating': 1, 'participation': 1, 'processby': 1, 'providing': 1, 'interested': 1, 'partiesof': 1, 'additions': 1, 'docket': 1, 'rejected': 1, 'theadministrator': 1, 'preliminarytechnical': 1, 'conducted': 1, 'updating': 1, 'thepesticide': 1, 'incident': 1, 'towardmaking': 1, 'availableto': 1, 'appro-priate': 1, 'availability': 1, 'sum-mary': 1, 'usage': 1, 'data.': 1, 'report.—': 1, 'scope.—in': 1, 'report': 1, 'describedin': 1, 'submit': 1, 'committee': 1, 'agri-culture': 1, 'committeeon': 1, 'agriculture': 1, 'nutrition': 1, 'forestry': 1, 'areport': 1, 'analysis': 1, 'impact': 1, 'mainte-nance': 1, 'businesses': 1, 'have—': 1, 'notexceed': 1, '2,000,000.': 1, 'required.—in': 1, 'anal-ysis': 1, 'shallcollect': 1, 'on—': 1, 'insubparagraph': 1, 'paying': 1, 'companyholds.': 1, 'termination': 1, 'effectiveness.—section': 1, 'amended—swalcilbuphtiwdorp1nvx7thksdnoesuarkdverdate': 1, 'andand': 1, 'date.—this': 1, 'madeby': 1, 'take': 1, 'effect': 1, 'relationship': 1, 'law.—in': 1, 'conflictbetween': 1, 'joint': 1, 'resolution': 1, 'continuing': 1, 'appropriations': 1, 'forfiscal': 1, 'year': 1, 'jointresolution': 1, 'sectionshall': 1, 'control.7': 1, '136a–1note.7': 1, '136a–1note.approved': 1, '2012.legislative': 1, 'history—s': 1, 'congressional': 1, 'vol': 1, 'sept.': 1, 'passed': 1, 'senate.sept': 1, 'house.æswalcilbuphtiwdorp1nvx7thksdnoesuarkdverdate': 1}\n"
     ]
    }
   ],
   "source": [
    "nb_env_input = create_nb_input(env_training_df, 'Environmental')\n",
    "nb_notenv_input = create_nb_input(notenv_training_df, 'NotEnvironmental')\n",
    "print(nb_env_input[0][0])"
   ]
  },
  {
   "cell_type": "code",
   "execution_count": 13,
   "metadata": {
    "ExecuteTime": {
     "end_time": "2021-01-23T20:34:25.878069Z",
     "start_time": "2021-01-23T20:34:25.874197Z"
    }
   },
   "outputs": [
    {
     "name": "stdout",
     "output_type": "stream",
     "text": [
      "<class 'list'>\n",
      "12\n"
     ]
    }
   ],
   "source": [
    "print(type(nb_env_input))\n",
    "print(len(nb_env_input))"
   ]
  },
  {
   "cell_type": "code",
   "execution_count": 14,
   "metadata": {
    "ExecuteTime": {
     "end_time": "2021-01-23T20:34:27.036908Z",
     "start_time": "2021-01-23T20:34:26.933720Z"
    }
   },
   "outputs": [
    {
     "ename": "ValueError",
     "evalue": "not enough values to unpack (expected 2, got 1)",
     "output_type": "error",
     "traceback": [
      "\u001b[0;31m---------------------------------------------------------------------------\u001b[0m",
      "\u001b[0;31mValueError\u001b[0m                                Traceback (most recent call last)",
      "\u001b[0;32m<ipython-input-14-8bf9ed7d4988>\u001b[0m in \u001b[0;36m<module>\u001b[0;34m\u001b[0m\n\u001b[0;32m----> 1\u001b[0;31m \u001b[0mlegislative_subject_classifier\u001b[0m \u001b[0;34m=\u001b[0m \u001b[0mNaiveBayesClassifier\u001b[0m\u001b[0;34m.\u001b[0m\u001b[0mtrain\u001b[0m\u001b[0;34m(\u001b[0m\u001b[0mnb_env_input\u001b[0m\u001b[0;34m[\u001b[0m\u001b[0;36m0\u001b[0m\u001b[0;34m]\u001b[0m\u001b[0;34m[\u001b[0m\u001b[0;36m0\u001b[0m\u001b[0;34m]\u001b[0m \u001b[0;34m+\u001b[0m \u001b[0mnb_notenv_input\u001b[0m\u001b[0;34m[\u001b[0m\u001b[0;36m0\u001b[0m\u001b[0;34m]\u001b[0m\u001b[0;34m[\u001b[0m\u001b[0;36m0\u001b[0m\u001b[0;34m]\u001b[0m\u001b[0;34m)\u001b[0m\u001b[0;34m\u001b[0m\u001b[0;34m\u001b[0m\u001b[0m\n\u001b[0m\u001b[1;32m      2\u001b[0m \u001b[0;31m#legislative_subject_classifier = NaiveBayesClassifier.train(nb_env_input[0][0] + nb_notenv_input[0][0])\u001b[0m\u001b[0;34m\u001b[0m\u001b[0;34m\u001b[0m\u001b[0;34m\u001b[0m\u001b[0m\n\u001b[1;32m      3\u001b[0m \u001b[0;31m#legislative_subject_classifier = NaiveBayesClassifier.train(nb_env_input[0][0] + nb_notenv_input[0][0])\u001b[0m\u001b[0;34m\u001b[0m\u001b[0;34m\u001b[0m\u001b[0;34m\u001b[0m\u001b[0m\n",
      "\u001b[0;32m~/anaconda3/envs/metis/lib/python3.8/site-packages/nltk/classify/naivebayes.py\u001b[0m in \u001b[0;36mtrain\u001b[0;34m(cls, labeled_featuresets, estimator)\u001b[0m\n\u001b[1;32m    204\u001b[0m         \u001b[0;31m# Count up how many times each feature value occurred, given\u001b[0m\u001b[0;34m\u001b[0m\u001b[0;34m\u001b[0m\u001b[0;34m\u001b[0m\u001b[0m\n\u001b[1;32m    205\u001b[0m         \u001b[0;31m# the label and featurename.\u001b[0m\u001b[0;34m\u001b[0m\u001b[0;34m\u001b[0m\u001b[0;34m\u001b[0m\u001b[0m\n\u001b[0;32m--> 206\u001b[0;31m         \u001b[0;32mfor\u001b[0m \u001b[0mfeatureset\u001b[0m\u001b[0;34m,\u001b[0m \u001b[0mlabel\u001b[0m \u001b[0;32min\u001b[0m \u001b[0mlabeled_featuresets\u001b[0m\u001b[0;34m:\u001b[0m\u001b[0;34m\u001b[0m\u001b[0;34m\u001b[0m\u001b[0m\n\u001b[0m\u001b[1;32m    207\u001b[0m             \u001b[0mlabel_freqdist\u001b[0m\u001b[0;34m[\u001b[0m\u001b[0mlabel\u001b[0m\u001b[0;34m]\u001b[0m \u001b[0;34m+=\u001b[0m \u001b[0;36m1\u001b[0m\u001b[0;34m\u001b[0m\u001b[0;34m\u001b[0m\u001b[0m\n\u001b[1;32m    208\u001b[0m             \u001b[0;32mfor\u001b[0m \u001b[0mfname\u001b[0m\u001b[0;34m,\u001b[0m \u001b[0mfval\u001b[0m \u001b[0;32min\u001b[0m \u001b[0mfeatureset\u001b[0m\u001b[0;34m.\u001b[0m\u001b[0mitems\u001b[0m\u001b[0;34m(\u001b[0m\u001b[0;34m)\u001b[0m\u001b[0;34m:\u001b[0m\u001b[0;34m\u001b[0m\u001b[0;34m\u001b[0m\u001b[0m\n",
      "\u001b[0;31mValueError\u001b[0m: not enough values to unpack (expected 2, got 1)"
     ]
    }
   ],
   "source": [
    "legislative_subject_classifier = NaiveBayesClassifier.train(nb_env_input[0][0] + nb_notenv_input[0][0])\n",
    "#legislative_subject_classifier = NaiveBayesClassifier.train(nb_env_input[0][0] + nb_notenv_input[0][0])\n",
    "#legislative_subject_classifier = NaiveBayesClassifier.train(nb_env_input[0][0] + nb_notenv_input[0][0])"
   ]
  },
  {
   "cell_type": "code",
   "execution_count": null,
   "metadata": {},
   "outputs": [],
   "source": [
    "nltk.classify.util.accuracy(mr_op_classifier, nb_mr_train_input + nb_op_train_input)*100"
   ]
  },
  {
   "cell_type": "markdown",
   "metadata": {},
   "source": [
    "# Test the model\n",
    "- essentially just run the accuracy but pass in the testing data instead of the training data"
   ]
  },
  {
   "cell_type": "markdown",
   "metadata": {},
   "source": [
    "### Using TFIDF vectorizer"
   ]
  },
  {
   "cell_type": "code",
   "execution_count": 615,
   "metadata": {
    "ExecuteTime": {
     "end_time": "2021-01-27T06:03:55.273268Z",
     "start_time": "2021-01-27T06:03:55.089733Z"
    }
   },
   "outputs": [],
   "source": [
    "from sklearn.model_selection import train_test_split, StratifiedKFold, RepeatedStratifiedKFold\n",
    "from sklearn.metrics import accuracy_score, precision_score, recall_score, f1_score, fbeta_score, roc_auc_score\n",
    "from sklearn.feature_extraction.text import TfidfVectorizer, CountVectorizer\n",
    "from sklearn.metrics import confusion_matrix, classification_report\n",
    "from xgboost import XGBClassifier\n",
    "import seaborn as sns\n",
    "\n",
    "def vectorize(X_text_tr, X_text_val, vectorizer_type):\n",
    "    '''\n",
    "    Vectorizes text into machine readable and model ready input format.\n",
    "    \n",
    "    Input:\n",
    "        X_text_tr (Training set texts)\n",
    "        X_text_val (Validation set texts)\n",
    "        vectorizer_type ['tfidf', 'counter']\n",
    "    Output:\n",
    "        X_tr_vector: sparse matrix; vectorized training text features\n",
    "        X_val_vector: sparse matrix; vectorized validation text features\n",
    "        train_df: doc-term term frequencies dataframe (training)\n",
    "        val_df: \n",
    "        vectorizer: vectorizer object; fitted on X_text_tr to be used to transform test text\n",
    "    '''\n",
    "    if vectorizer_type == 'tfidf':\n",
    "        vectorizer = TfidfVectorizer(max_df=0.8, min_df=0.1, lowercase=True, analyzer='word',\n",
    "                                 stop_words= 'english',ngram_range=(1,1))\n",
    "    elif vectorizer_type == 'counter':\n",
    "        vectorizer = TfidfVectorizer(max_df=0.8, min_df=0.1, lowercase=True, analyzer='word',\n",
    "                                 stop_words= 'english',ngram_range=(1,1))\n",
    "        \n",
    "    X_tr_vector = vectorizer.fit_transform(X_text_tr.ravel())\n",
    "    X_val_vector = vectorizer.transform(X_text_val.ravel())\n",
    "    \n",
    "    feature_names = vectorizer.get_feature_names()\n",
    "    dense1 = X_tr_vector.todense().tolist()\n",
    "    dense2 = X_val_vector.todense().tolist()\n",
    "    train_df = pd.DataFrame(dense1, columns=feature_names)\n",
    "    val_df = pd.DataFrame(dense2, columns=feature_names)\n",
    "    \n",
    "    return X_tr_vector, X_val_vector, train_df, val_df, vectorizer"
   ]
  },
  {
   "cell_type": "code",
   "execution_count": 683,
   "metadata": {
    "ExecuteTime": {
     "end_time": "2021-01-27T06:26:41.485674Z",
     "start_time": "2021-01-27T06:26:40.204462Z"
    }
   },
   "outputs": [],
   "source": [
    "text = doc_df['text_cleaned']\n",
    "y = (doc_df['env_label'] == 'Environmental')\n",
    "\n",
    "#test random_state\n",
    "text_train, text_test, y_train, y_test = train_test_split(text, y, test_size=0.2)\n",
    "text_train, text_val, y_train, y_val = train_test_split(text_train, y_train, test_size=0.2)\n",
    "\n",
    "kf = RepeatedStratifiedKFold(n_splits=5, n_repeats=25)\n",
    "#model using TFIDF vectorizer\n",
    "X_train, X_val, df_train, df_val, vectorizer = vectorize(text_train, text_val, 'tfidf')\n",
    "X, y = X_train.toarray(), np.array(y_train)\n",
    "\n",
    "train_accuracies, train_precisions, train_recalls, train_f1s, train_fbetas = [], [], [], [], []\n",
    "val_accuracies, val_precisions, val_recalls, val_f1s, val_fbetas = [], [], [], [], []\n",
    "\n",
    "for train_ind, val_ind in kf.split(X,y):\n",
    "    X_train, y_train = X[train_ind], y[train_ind]\n",
    "    X_val, y_val = X[val_ind], y[val_ind] \n",
    "    \n",
    "    model = BernoulliNB()\n",
    "    model.fit(X_train, y_train)\n",
    "    ytrain_preds = model.predict(X_train)\n",
    "    ytrain_preds_probs = model.predict_proba(X_train)[:,1]\n",
    "    train_preds = np.where(ytrain_preds_probs > 0.5, 1, 0)\n",
    "    yval_preds = model.predict(X_val)\n",
    "    yval_preds_probs = model.predict_proba(X_val)[:,1]\n",
    "    val_trains = np.where(yval_preds_probs > 0.5, 1, 0)\n",
    "    \n",
    "#     train_acc = model.score(X_train, y_train)\n",
    "#     val_acc = model.score(X_val, y_val)\n",
    "    train_accuracies.append(accuracy_score(y_train, ytrain_preds))\n",
    "    train_precisions.append(precision_score(y_train, train_preds))\n",
    "    train_recalls.append(recall_score(y_train, ytrain_preds))\n",
    "    train_f1s.append(f1_score(y_train, ytrain_preds))   \n",
    "    train_fbetas.append(fbeta_score(y_train, ytrain_preds, beta=0))\n",
    "\n",
    "    val_accuracies.append(accuracy_score(y_val, yval_preds))\n",
    "    val_precisions.append(precision_score(y_val, yval_preds))\n",
    "    val_recalls.append(recall_score(y_val, yval_preds))\n",
    "    val_f1s.append(f1_score(y_val, yval_preds))   \n",
    "    val_fbetas.append(fbeta_score(y_val, yval_preds, beta=0))\n",
    "    \n",
    "train_scores = [train_accuracies, train_precisions, train_recalls, train_f1s, train_fbetas]\n",
    "val_scores = [val_accuracies, val_precisions, val_recalls, val_f1s, val_fbetas]\n",
    "scores = ['Accuracy', 'Precision', 'Recall', 'F1', 'FBeta']"
   ]
  },
  {
   "cell_type": "code",
   "execution_count": 686,
   "metadata": {
    "ExecuteTime": {
     "end_time": "2021-01-27T06:27:02.297477Z",
     "start_time": "2021-01-27T06:27:02.285097Z"
    }
   },
   "outputs": [
    {
     "name": "stdout",
     "output_type": "stream",
     "text": [
      "Accuracy\n",
      "Train: 0.810 +- 0.048\n",
      "Val: 0.731 +- 0.112\n",
      "-------------\n",
      "Precision\n",
      "Train: 0.855 +- 0.062\n",
      "Val: 0.713 +- 0.210\n",
      "-------------\n",
      "Recall\n",
      "Train: 0.609 +- 0.096\n",
      "Val: 0.540 +- 0.198\n",
      "-------------\n",
      "F1\n",
      "Train: 0.709 +- 0.078\n",
      "Val: 0.597 +- 0.180\n",
      "-------------\n",
      "FBeta\n",
      "Train: 0.855 +- 0.062\n",
      "Val: 0.713 +- 0.210\n",
      "-------------\n"
     ]
    }
   ],
   "source": [
    "for score, tr, val in zip(scores, train_scores, val_scores):\n",
    "    print(score)\n",
    "    print(f'Train: {np.mean(tr):.3f} +- {np.std(tr):.3f}')\n",
    "    print(f'Val: {np.mean(val):.3f} +- {np.std(val):.3f}')\n",
    "    print('-------------')"
   ]
  },
  {
   "cell_type": "code",
   "execution_count": 687,
   "metadata": {
    "ExecuteTime": {
     "end_time": "2021-01-27T06:27:02.849991Z",
     "start_time": "2021-01-27T06:27:02.841160Z"
    }
   },
   "outputs": [
    {
     "name": "stdout",
     "output_type": "stream",
     "text": [
      "Validation Results\n",
      "              precision    recall  f1-score   support\n",
      "\n",
      "       False       0.67      0.80      0.73        10\n",
      "        True       0.60      0.43      0.50         7\n",
      "\n",
      "    accuracy                           0.65        17\n",
      "   macro avg       0.63      0.61      0.61        17\n",
      "weighted avg       0.64      0.65      0.63        17\n",
      "\n",
      "\n"
     ]
    }
   ],
   "source": [
    "print('Validation Results')\n",
    "print(classification_report(y_val, yval_preds))\n",
    "print('')"
   ]
  },
  {
   "cell_type": "markdown",
   "metadata": {},
   "source": [
    "### Testing Model on Hold-out/Test Set"
   ]
  },
  {
   "cell_type": "code",
   "execution_count": 688,
   "metadata": {
    "ExecuteTime": {
     "end_time": "2021-01-27T06:27:08.114162Z",
     "start_time": "2021-01-27T06:27:08.075814Z"
    }
   },
   "outputs": [
    {
     "name": "stdout",
     "output_type": "stream",
     "text": [
      "Test Accuracy:  0.6428571428571429\n"
     ]
    }
   ],
   "source": [
    "X_test = vectorizer.transform(text_test)\n",
    "preds = model.predict(X_test)\n",
    "print(f'Test Accuracy: ', model.score(X_test, y_test))"
   ]
  },
  {
   "cell_type": "markdown",
   "metadata": {
    "ExecuteTime": {
     "end_time": "2021-01-24T20:28:14.098871Z",
     "start_time": "2021-01-24T20:28:12.156103Z"
    }
   },
   "source": [
    "<!-- #save model in pickle format\n",
    "pd.to_pickle(model, 'env_classifier.pkl') -->"
   ]
  },
  {
   "cell_type": "code",
   "execution_count": 661,
   "metadata": {
    "ExecuteTime": {
     "end_time": "2021-01-27T06:08:32.278780Z",
     "start_time": "2021-01-27T06:08:32.072303Z"
    }
   },
   "outputs": [
    {
     "data": {
      "image/png": "[encoded data removed]",
      "text/plain": [
       "<Figure size 432x288 with 2 Axes>"
      ]
     },
     "metadata": {
      "needs_background": "light"
     },
     "output_type": "display_data"
    }
   ],
   "source": [
    "cm = confusion_matrix(y_test, preds)\n",
    "sns.heatmap(cm, annot=True, cmap='Blues', xticklabels=['Non-environmental', 'Environmental'])\n",
    "plt.title('Validation Set Confusion Matrix')\n",
    "plt.xlabel('Ground Truth')\n",
    "plt.ylabel('Prediction');"
   ]
  },
  {
   "cell_type": "code",
   "execution_count": null,
   "metadata": {
    "ExecuteTime": {
     "end_time": "2021-01-27T06:05:00.278320Z",
     "start_time": "2021-01-27T06:05:00.023333Z"
    }
   },
   "outputs": [],
   "source": [
    "# text = doc_df['text_cleaned']\n",
    "# y = (doc_df['env_label'] == 'Environmental')\n",
    "\n",
    "# # text_train, text_test, y_train, y_test = train_test_split(text, y, test_size=0.2)\n",
    "# text_train, text_val, y_train, y_val = train_test_split(text_train, y_train, test_size=0.2)\n",
    "\n",
    "# X_train, X_val, df_train, df_val, vectorizer = vectorize(text_train, text_val, 'tfidf')\n",
    "# X, y = X_train.toarray(), np.array(y_train)\n",
    "# X_test = vectorizer.transform(text_test)"
   ]
  },
  {
   "cell_type": "code",
   "execution_count": null,
   "metadata": {
    "ExecuteTime": {
     "end_time": "2021-01-27T06:05:01.029805Z",
     "start_time": "2021-01-27T06:05:01.020812Z"
    }
   },
   "outputs": [],
   "source": [
    "# X_train.shape, X_test.shape"
   ]
  },
  {
   "cell_type": "markdown",
   "metadata": {
    "ExecuteTime": {
     "end_time": "2021-01-27T06:29:57.667118Z",
     "start_time": "2021-01-27T06:29:57.625692Z"
    }
   },
   "source": [
    "## 1-run of XGBoost"
   ]
  },
  {
   "cell_type": "code",
   "execution_count": 641,
   "metadata": {
    "ExecuteTime": {
     "end_time": "2021-01-27T06:05:02.416613Z",
     "start_time": "2021-01-27T06:05:02.257631Z"
    }
   },
   "outputs": [
    {
     "name": "stdout",
     "output_type": "stream",
     "text": [
      "XGBoost's train prediction accuracy is: 100.00\n",
      "XGBoost's val prediction accuracy is: 82.61\n",
      "XGBoost's test prediction accuracy is: 89.29\n"
     ]
    }
   ],
   "source": [
    "xgb = XGBClassifier(n_estimators=100)\n",
    "xgb.fit(X_train, y_train)\n",
    "\n",
    "train_preds = xgb.predict(X_train)\n",
    "val_preds = xgb.predict(X_val)\n",
    "test_preds = xgb.predict(X_test)\n",
    "\n",
    "train_acc_xgb = (train_preds == y_train).sum().astype(float) / len(train_preds)*100\n",
    "val_acc_xgb = (val_preds == y_val).sum().astype(float) / len(val_preds)*100\n",
    "test_acc_xgb = (test_preds == y_test).sum().astype(float) / len(test_preds)*100\n",
    "\n",
    "print(\"XGBoost's train prediction accuracy is: %3.2f\" % (train_acc_xgb))\n",
    "print(\"XGBoost's val prediction accuracy is: %3.2f\" % (val_acc_xgb))\n",
    "print(\"XGBoost's test prediction accuracy is: %3.2f\" % (test_acc_xgb))"
   ]
  },
  {
   "cell_type": "code",
   "execution_count": 642,
   "metadata": {
    "ExecuteTime": {
     "end_time": "2021-01-27T06:05:07.222041Z",
     "start_time": "2021-01-27T06:05:07.208177Z"
    }
   },
   "outputs": [
    {
     "name": "stdout",
     "output_type": "stream",
     "text": [
      "Validation Results\n",
      "              precision    recall  f1-score   support\n",
      "\n",
      "       False       0.92      0.79      0.85        14\n",
      "        True       0.73      0.89      0.80         9\n",
      "\n",
      "    accuracy                           0.83        23\n",
      "   macro avg       0.82      0.84      0.82        23\n",
      "weighted avg       0.84      0.83      0.83        23\n",
      "\n",
      "\n"
     ]
    }
   ],
   "source": [
    "print('Validation Results')\n",
    "print(classification_report(y_val, val_preds))\n",
    "print('')"
   ]
  },
  {
   "cell_type": "markdown",
   "metadata": {},
   "source": [
    "# XGBoost with Repeated Kfold Cross Validation"
   ]
  },
  {
   "cell_type": "code",
   "execution_count": 689,
   "metadata": {
    "ExecuteTime": {
     "end_time": "2021-01-27T06:27:24.561367Z",
     "start_time": "2021-01-27T06:27:13.430428Z"
    }
   },
   "outputs": [],
   "source": [
    "# text = doc_df['text_cleaned']\n",
    "# y = (doc_df['env_label'] == 'Environmental')\n",
    "\n",
    "# #test random_state\n",
    "# text_train, text_test, y_train, y_test = train_test_split(text, y, test_size=0.2)\n",
    "# text_train, text_val, y_train, y_val = train_test_split(text_train, y_train, test_size=0.2)\n",
    "\n",
    "# kf = RepeatedStratifiedKFold(n_splits=5, n_repeats=25)\n",
    "# #model using TFIDF vectorizer\n",
    "# X_train, X_val, df_train, df_val, vectorizer = vectorize(text_train, text_val, 'tfidf')\n",
    "# X, y = X_train.toarray(), np.array(y_train)\n",
    "\n",
    "train_accuracies, train_precisions, train_recalls, train_f1s, train_fbetas = [], [], [], [], []\n",
    "val_accuracies, val_precisions, val_recalls, val_f1s, val_fbetas = [], [], [], [], []\n",
    "\n",
    "for train_ind, val_ind in kf.split(X,y):\n",
    "    X_train, y_train = X[train_ind], y[train_ind]\n",
    "    X_val, y_val = X[val_ind], y[val_ind] \n",
    "    \n",
    "    xgb = XGBClassifier(n_estimators=100)\n",
    "    xgb.fit(X_train, y_train)\n",
    "    ytrain_preds = xgb.predict(X_train)\n",
    "    ytrain_preds_probs = xgb.predict_proba(X_train)[:,1]\n",
    "    train_preds = np.where(ytrain_preds_probs > 0.5, 1, 0)\n",
    "    yval_preds = xgb.predict(X_val)\n",
    "    yval_preds_probs = xgb.predict_proba(X_val)[:,1]\n",
    "    val_trains = np.where(yval_preds_probs > 0.5, 1, 0)\n",
    "    \n",
    "#     train_acc = model.score(X_train, y_train)\n",
    "#     val_acc = model.score(X_val, y_val)\n",
    "    train_accuracies.append(accuracy_score(y_train, ytrain_preds))\n",
    "    train_precisions.append(precision_score(y_train, train_preds))\n",
    "    train_recalls.append(recall_score(y_train, ytrain_preds))\n",
    "    train_f1s.append(f1_score(y_train, ytrain_preds))   \n",
    "    train_fbetas.append(fbeta_score(y_train, ytrain_preds, beta=0))\n",
    "\n",
    "    val_accuracies.append(accuracy_score(y_val, yval_preds))\n",
    "    val_precisions.append(precision_score(y_val, yval_preds))\n",
    "    val_recalls.append(recall_score(y_val, yval_preds))\n",
    "    val_f1s.append(f1_score(y_val, yval_preds))   \n",
    "    val_fbetas.append(fbeta_score(y_val, yval_preds, beta=0))\n",
    "    \n",
    "train_scores = [train_accuracies, train_precisions, train_recalls, train_f1s, train_fbetas]\n",
    "val_scores = [val_accuracies, val_precisions, val_recalls, val_f1s, val_fbetas]\n",
    "scores = ['Accuracy', 'Precision', 'Recall', 'F1', 'FBeta']"
   ]
  },
  {
   "cell_type": "markdown",
   "metadata": {
    "ExecuteTime": {
     "end_time": "2021-01-27T06:05:14.647987Z",
     "start_time": "2021-01-27T06:05:14.640322Z"
    }
   },
   "source": [
    "for score, tr, val in zip(scores, train_scores, val_scores):\n",
    "    print(score)\n",
    "    print(f'Train: {np.mean(tr):.3f} +- {np.std(tr):.3f}')\n",
    "    print(f'Val: {np.mean(val):.3f} +- {np.std(val):.3f}')\n",
    "    print('-------------')"
   ]
  },
  {
   "cell_type": "code",
   "execution_count": 690,
   "metadata": {
    "ExecuteTime": {
     "end_time": "2021-01-27T06:27:25.953328Z",
     "start_time": "2021-01-27T06:27:25.930184Z"
    }
   },
   "outputs": [
    {
     "name": "stdout",
     "output_type": "stream",
     "text": [
      "Training Results\n",
      "              precision    recall  f1-score   support\n",
      "\n",
      "       False       1.00      1.00      1.00        44\n",
      "        True       1.00      1.00      1.00        27\n",
      "\n",
      "    accuracy                           1.00        71\n",
      "   macro avg       1.00      1.00      1.00        71\n",
      "weighted avg       1.00      1.00      1.00        71\n",
      "\n",
      "ROC AUC Score Training = 1.0\n",
      "Training Accuracy = 1.0\n",
      "\n",
      "--------------------------\n",
      "\n",
      "Validation Results\n",
      "              precision    recall  f1-score   support\n",
      "\n",
      "       False       1.00      0.80      0.89        10\n",
      "        True       0.78      1.00      0.88         7\n",
      "\n",
      "    accuracy                           0.88        17\n",
      "   macro avg       0.89      0.90      0.88        17\n",
      "weighted avg       0.91      0.88      0.88        17\n",
      "\n",
      "ROC AUC Score Validation = 1.0\n",
      "Validation Accuracy = 0.8823529411764706\n"
     ]
    }
   ],
   "source": [
    "print('Training Results')\n",
    "print(classification_report(y_train, ytrain_preds))\n",
    "print(\"ROC AUC Score Training = \" + str(roc_auc_score(y_train, ytrain_preds_probs)))\n",
    "print(\"Training Accuracy = \" + str(xgb.score(X_train, y_train)))\n",
    "print('\\n--------------------------\\n')\n",
    "print('Validation Results')\n",
    "print(classification_report(y_val, yval_preds))\n",
    "print(\"ROC AUC Score Validation = \" + str(roc_auc_score(y_val, yval_preds_probs)))\n",
    "print(\"Validation Accuracy = \" + str(xgb.score(X_val, y_val)))"
   ]
  },
  {
   "cell_type": "code",
   "execution_count": 691,
   "metadata": {
    "ExecuteTime": {
     "end_time": "2021-01-27T06:27:29.558131Z",
     "start_time": "2021-01-27T06:27:29.377543Z"
    }
   },
   "outputs": [
    {
     "name": "stdout",
     "output_type": "stream",
     "text": [
      "Recall: 1.0\n",
      "Precision: 0.7777777777777778\n"
     ]
    },
    {
     "data": {
      "image/png": "[encoded data removed]",
      "text/plain": [
       "<Figure size 432x288 with 2 Axes>"
      ]
     },
     "metadata": {
      "needs_background": "light"
     },
     "output_type": "display_data"
    }
   ],
   "source": [
    "cm = confusion_matrix(y_val, yval_preds)\n",
    "sns.heatmap(cm, annot=True, cmap='Blues', xticklabels=['Non-environmental', 'Environmental'])\n",
    "plt.title('Validation Set Confusion Matrix')\n",
    "plt.xlabel('Ground Truth')\n",
    "plt.ylabel('Prediction');\n",
    "print('Recall:', recall_score(y_val, yval_preds))\n",
    "print('Precision:', precision_score(y_val, yval_preds))"
   ]
  },
  {
   "cell_type": "code",
   "execution_count": 692,
   "metadata": {
    "ExecuteTime": {
     "end_time": "2021-01-27T06:28:07.347739Z",
     "start_time": "2021-01-27T06:28:07.342298Z"
    }
   },
   "outputs": [
    {
     "data": {
      "text/plain": [
       "((71, 610), (28, 610))"
      ]
     },
     "execution_count": 692,
     "metadata": {},
     "output_type": "execute_result"
    }
   ],
   "source": [
    "X_train.shape, X_test.shape"
   ]
  },
  {
   "cell_type": "code",
   "execution_count": 693,
   "metadata": {
    "ExecuteTime": {
     "end_time": "2021-01-27T06:28:09.089352Z",
     "start_time": "2021-01-27T06:28:09.081279Z"
    }
   },
   "outputs": [
    {
     "name": "stdout",
     "output_type": "stream",
     "text": [
      "XGBoost's test prediction accuracy is: 92.86\n"
     ]
    }
   ],
   "source": [
    "test_preds = xgb.predict(X_test)\n",
    "test_acc_xgb = (test_preds == y_test).sum().astype(float) / len(test_preds)*100\n",
    "print(\"XGBoost's test prediction accuracy is: %3.2f\" % (test_acc_xgb))"
   ]
  },
  {
   "cell_type": "code",
   "execution_count": 694,
   "metadata": {
    "ExecuteTime": {
     "end_time": "2021-01-27T06:28:12.468500Z",
     "start_time": "2021-01-27T06:28:12.458401Z"
    }
   },
   "outputs": [],
   "source": [
    "pd.to_pickle(xgb, 'xgbclassifier.pkl')"
   ]
  },
  {
   "cell_type": "markdown",
   "metadata": {},
   "source": [
    "### Extras"
   ]
  },
  {
   "cell_type": "code",
   "execution_count": 262,
   "metadata": {
    "ExecuteTime": {
     "end_time": "2021-01-24T04:15:01.944309Z",
     "start_time": "2021-01-24T04:14:59.423059Z"
    },
    "scrolled": true
   },
   "outputs": [
    {
     "name": "stdout",
     "output_type": "stream",
     "text": [
      "1 Run(s)\n",
      "Train Score: 0.8557692307692307\n",
      "Test Score: 0.7714285714285715\n",
      "--------------------------\n",
      "2 Run(s)\n",
      "Train Score: 0.8846153846153846\n",
      "Test Score: 0.8\n",
      "--------------------------\n",
      "3 Run(s)\n",
      "Train Score: 0.875\n",
      "Test Score: 0.9428571428571428\n",
      "--------------------------\n",
      "4 Run(s)\n",
      "Train Score: 0.75\n",
      "Test Score: 0.6285714285714286\n",
      "--------------------------\n",
      "5 Run(s)\n",
      "Train Score: 0.9326923076923077\n",
      "Test Score: 0.9142857142857143\n",
      "--------------------------\n",
      "6 Run(s)\n",
      "Train Score: 0.75\n",
      "Test Score: 0.7142857142857143\n",
      "--------------------------\n",
      "7 Run(s)\n",
      "Train Score: 0.8076923076923077\n",
      "Test Score: 0.7428571428571429\n",
      "--------------------------\n",
      "8 Run(s)\n",
      "Train Score: 0.7403846153846154\n",
      "Test Score: 0.5714285714285714\n",
      "--------------------------\n",
      "9 Run(s)\n",
      "Train Score: 0.8557692307692307\n",
      "Test Score: 0.7428571428571429\n",
      "--------------------------\n",
      "10 Run(s)\n",
      "Train Score: 0.8653846153846154\n",
      "Test Score: 0.8857142857142857\n",
      "--------------------------\n",
      "Average Train Score (10 Runs): 0.8317307692307694\n",
      "Average Test Score (10 Runs): 0.7714285714285716\n"
     ]
    }
   ],
   "source": [
    "#No Kfold cross validation yet\n",
    "def run_model_n_times(n_times):\n",
    "    train_scores, test_scores = [], []\n",
    "    \n",
    "    runs = 0\n",
    "    while runs < n_times:\n",
    "        print(f'{runs+1} Run(s)')\n",
    "        text_train, text_test, y_train, y_test = train_test_split(X, y, test_size=0.25)\n",
    "        #first model using TFIDF vectorizer\n",
    "        X_train, X_test, df_train, df_test, vectorizer = vectorize(text_train, text_test, 'tfidf')\n",
    "        X_train.shape, X_test.shape\n",
    "\n",
    "        model = BernoulliNB()\n",
    "        model.fit(X_train, y_train)\n",
    "        train_score = model.score(X_train, y_train)\n",
    "        test_score = model.score(X_test, y_test)\n",
    "        \n",
    "        train_scores.append(train_score)\n",
    "        test_scores.append(test_score)\n",
    "        print('Train Score:', train_score)\n",
    "        print('Test Score:', test_score)\n",
    "        print('--------------------------')\n",
    "        runs+=1\n",
    "        \n",
    "    print(f'Average Train Score ({n_times} Runs): {np.mean(train_scores)}')\n",
    "    print(f'Average Test Score ({n_times} Runs): {np.mean(test_scores)}')\n",
    "\n",
    "run_model_n_times(10)"
   ]
  },
  {
   "cell_type": "markdown",
   "metadata": {},
   "source": [
    "### Using CounterVectorizer"
   ]
  },
  {
   "cell_type": "code",
   "execution_count": 226,
   "metadata": {
    "ExecuteTime": {
     "end_time": "2021-01-24T03:50:28.125326Z",
     "start_time": "2021-01-24T03:50:27.881788Z"
    }
   },
   "outputs": [
    {
     "data": {
      "text/plain": [
       "((104, 475), (35, 475))"
      ]
     },
     "execution_count": 226,
     "metadata": {},
     "output_type": "execute_result"
    }
   ],
   "source": [
    "X_train, X_test, df_train, df_test, vectorizer = vectorize(text_train, text_test, 'counter')\n",
    "X_train.shape, X_test.shape"
   ]
  },
  {
   "cell_type": "code",
   "execution_count": 227,
   "metadata": {
    "ExecuteTime": {
     "end_time": "2021-01-24T03:50:28.354401Z",
     "start_time": "2021-01-24T03:50:28.345623Z"
    }
   },
   "outputs": [
    {
     "name": "stdout",
     "output_type": "stream",
     "text": [
      "Train Score: 0.8173076923076923\n",
      "Test Score: 0.7142857142857143\n"
     ]
    }
   ],
   "source": [
    "model = BernoulliNB()\n",
    "model.fit(X_train, y_train)\n",
    "train_score = model.score(X_train, y_train)\n",
    "test_score = model.score(X_test, y_test)\n",
    "print('Train Score:', train_score)\n",
    "print('Test Score:', test_score)"
   ]
  },
  {
   "cell_type": "markdown",
   "metadata": {},
   "source": [
    "After trying out both TFIDF and Counter vectorizers, neither really have any discernable difference in performance."
   ]
  },
  {
   "cell_type": "code",
   "execution_count": null,
   "metadata": {},
   "outputs": [],
   "source": []
  },
  {
   "cell_type": "code",
   "execution_count": 493,
   "metadata": {
    "ExecuteTime": {
     "end_time": "2021-01-27T02:41:09.233108Z",
     "start_time": "2021-01-27T02:41:08.996786Z"
    }
   },
   "outputs": [
    {
     "data": {
      "text/plain": [
       "'ith congressd session  h r to  amend  the  comprehensive  environmental  response  compensation  andliability  act  of    to  provide  for  the  consideration  of  climate  changeand for other purposesin  the  house  of  representativesdecember  mr  cleaver for  himself  and  ms  bass  introduced  the  following  bill  whichwas referred to the committee on energy and commerce and in additionto  the  committee  on  transportation  and  infrastructure  for  a  period  tobe  subsequently  determined  by  the  speaker  in  each  case  for  consideration  of  such  provisions  as  fall  within  the  jurisdiction  of  the  committeeconcerneda  billto amend the comprehensive environmental response compensation  and  liability  act  of    to  provide  for  theconsideration  of  climate  change  and  for  other  purposesbe  it  enacted  by  the  senate  and  house  of  representatives of the united states of america in congress assembledsection  short titlethis  act  may  be  cited  as  the  preparing  superfundfor climate change act of sllibhtiwdorpclksdnonosnhokjverdate sep     dec   jkt  po  frm  fmt  sfmt  ebillshih hsec  climate change mitigationsection  of the comprehensive environmental response  compensation  and  liability  act  of    usc  is amended  in  subsection  b  in  the  fifth  sentencea  in  the  matter  preceding  subparagrapha  by  striking  account  and  inserting  accountand at the endbin  subparagraph  f  by  strikingc  in  subparagraph  g  by  striking  theperiod at the end and inserting  and andd  by  inserting  after  subparagraph  gthe followingh  the  potential  threat  to  human  healthand  the  environment  associated  with  local  natural  disasters  and  extreme  weather  hazards  including  any  projected  exacerbation  or  change  inthose  disasters  and  hazards  due  to  climatechange and in subsection c by inserting after the firstsentence  the  following  the  president  shall  includein  the  review  an  assessment  of  whether  the  selectedremedial  action  remains  protective  after  taking  intoaccount  local  natural  disasters  and  extreme  weatherhazards  including  any  projected  exacerbation  orsllibhtiwdorpclksdnonosnhokjverdate sep     dec   jkt  po  frm  fmt  sfmt  ebillshih hhr    ihchange in those disasters and hazards due to climatechangesllibhtiwdorpclksdnonosnhokjverdate sep     dec   jkt  po  frm  fmt  sfmt  ebillshih hhr    ih'"
      ]
     },
     "execution_count": 493,
     "metadata": {},
     "output_type": "execute_result"
    }
   ],
   "source": [
    "from preprocessing import get_text_from_pdf, clean_text\n",
    "file = 'Test Data/BILLS-116hr8915ih.pdf'\n",
    "doc_str = get_text_from_pdf(file)\n",
    "txt_cln = clean_text(doc_str)\n",
    "txt_cln"
   ]
  },
  {
   "cell_type": "code",
   "execution_count": 494,
   "metadata": {
    "ExecuteTime": {
     "end_time": "2021-01-27T02:41:12.352198Z",
     "start_time": "2021-01-27T02:41:12.328204Z"
    }
   },
   "outputs": [
    {
     "data": {
      "text/plain": [
       "True"
      ]
     },
     "execution_count": 494,
     "metadata": {},
     "output_type": "execute_result"
    }
   ],
   "source": [
    "test_tfidf = vectorizer.transform([txt_cln])\n",
    "model.predict(test_tfidf)[0]"
   ]
  },
  {
   "cell_type": "code",
   "execution_count": null,
   "metadata": {},
   "outputs": [],
   "source": []
  }
 ],
 "metadata": {
  "kernelspec": {
   "display_name": "Python [conda env:metis] *",
   "language": "python",
   "name": "conda-env-metis-py"
  },
  "language_info": {
   "codemirror_mode": {
    "name": "ipython",
    "version": 3
   },
   "file_extension": ".py",
   "mimetype": "text/x-python",
   "name": "python",
   "nbconvert_exporter": "python",
   "pygments_lexer": "ipython3",
   "version": "3.8.3"
  },
  "toc": {
   "base_numbering": 1,
   "nav_menu": {},
   "number_sections": true,
   "sideBar": true,
   "skip_h1_title": false,
   "title_cell": "Table of Contents",
   "title_sidebar": "Contents",
   "toc_cell": false,
   "toc_position": {},
   "toc_section_display": true,
   "toc_window_display": false
  }
 },
 "nbformat": 4,
 "nbformat_minor": 4
}
